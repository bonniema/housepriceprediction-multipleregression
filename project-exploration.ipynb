{
 "cells": [
  {
   "cell_type": "markdown",
   "metadata": {},
   "source": [
    "# Module 1 Project: King County House Sales Price Projection\n"
   ]
  },
  {
   "cell_type": "markdown",
   "metadata": {},
   "source": [
    "#### Follow the OSEMN model process in this project:\n",
    "\n",
    "- **  Obtain **\n",
    "- **  Scrub **\n",
    "- **  Explore **\n",
    "- **  Model **\n",
    "- **  Interpret **"
   ]
  },
  {
   "cell_type": "markdown",
   "metadata": {},
   "source": [
    "# I. Obtain the data \n"
   ]
  },
  {
   "cell_type": "code",
   "execution_count": 1,
   "metadata": {},
   "outputs": [
    {
     "name": "stderr",
     "output_type": "stream",
     "text": [
      "C:\\Users\\bonma1\\AppData\\Local\\Continuum\\anaconda3\\lib\\site-packages\\statsmodels\\compat\\pandas.py:56: FutureWarning: The pandas.core.datetools module is deprecated and will be removed in a future version. Please use the pandas.tseries module instead.\n",
      "  from pandas.core import datetools\n"
     ]
    }
   ],
   "source": [
    "#import libraries and data\n",
    "\n",
    "import pandas as pd\n",
    "import numpy as np\n",
    "import matplotlib.pyplot as plt\n",
    "import seaborn as sns\n",
    "import statsmodels.api as sm\n",
    "import statsmodels.formula.api as smf\n",
    "import scipy.stats as stats\n",
    "from collections import Counter"
   ]
  },
  {
   "cell_type": "code",
   "execution_count": 2,
   "metadata": {},
   "outputs": [],
   "source": [
    "kcdata = pd.read_csv(\"kc_house_data.csv\")"
   ]
  },
  {
   "cell_type": "code",
   "execution_count": 3,
   "metadata": {},
   "outputs": [
    {
     "data": {
      "text/html": [
       "<div>\n",
       "<style scoped>\n",
       "    .dataframe tbody tr th:only-of-type {\n",
       "        vertical-align: middle;\n",
       "    }\n",
       "\n",
       "    .dataframe tbody tr th {\n",
       "        vertical-align: top;\n",
       "    }\n",
       "\n",
       "    .dataframe thead th {\n",
       "        text-align: right;\n",
       "    }\n",
       "</style>\n",
       "<table border=\"1\" class=\"dataframe\">\n",
       "  <thead>\n",
       "    <tr style=\"text-align: right;\">\n",
       "      <th></th>\n",
       "      <th>id</th>\n",
       "      <th>date</th>\n",
       "      <th>price</th>\n",
       "      <th>bedrooms</th>\n",
       "      <th>bathrooms</th>\n",
       "      <th>sqft_living</th>\n",
       "      <th>sqft_lot</th>\n",
       "      <th>floors</th>\n",
       "      <th>waterfront</th>\n",
       "      <th>view</th>\n",
       "      <th>...</th>\n",
       "      <th>grade</th>\n",
       "      <th>sqft_above</th>\n",
       "      <th>sqft_basement</th>\n",
       "      <th>yr_built</th>\n",
       "      <th>yr_renovated</th>\n",
       "      <th>zipcode</th>\n",
       "      <th>lat</th>\n",
       "      <th>long</th>\n",
       "      <th>sqft_living15</th>\n",
       "      <th>sqft_lot15</th>\n",
       "    </tr>\n",
       "  </thead>\n",
       "  <tbody>\n",
       "    <tr>\n",
       "      <th>0</th>\n",
       "      <td>7129300520</td>\n",
       "      <td>10/13/2014</td>\n",
       "      <td>221900.0</td>\n",
       "      <td>3</td>\n",
       "      <td>1.00</td>\n",
       "      <td>1180</td>\n",
       "      <td>5650</td>\n",
       "      <td>1.0</td>\n",
       "      <td>NaN</td>\n",
       "      <td>0.0</td>\n",
       "      <td>...</td>\n",
       "      <td>7</td>\n",
       "      <td>1180</td>\n",
       "      <td>0.0</td>\n",
       "      <td>1955</td>\n",
       "      <td>0.0</td>\n",
       "      <td>98178</td>\n",
       "      <td>47.5112</td>\n",
       "      <td>-122.257</td>\n",
       "      <td>1340</td>\n",
       "      <td>5650</td>\n",
       "    </tr>\n",
       "    <tr>\n",
       "      <th>1</th>\n",
       "      <td>6414100192</td>\n",
       "      <td>12/9/2014</td>\n",
       "      <td>538000.0</td>\n",
       "      <td>3</td>\n",
       "      <td>2.25</td>\n",
       "      <td>2570</td>\n",
       "      <td>7242</td>\n",
       "      <td>2.0</td>\n",
       "      <td>0.0</td>\n",
       "      <td>0.0</td>\n",
       "      <td>...</td>\n",
       "      <td>7</td>\n",
       "      <td>2170</td>\n",
       "      <td>400.0</td>\n",
       "      <td>1951</td>\n",
       "      <td>1991.0</td>\n",
       "      <td>98125</td>\n",
       "      <td>47.7210</td>\n",
       "      <td>-122.319</td>\n",
       "      <td>1690</td>\n",
       "      <td>7639</td>\n",
       "    </tr>\n",
       "    <tr>\n",
       "      <th>2</th>\n",
       "      <td>5631500400</td>\n",
       "      <td>2/25/2015</td>\n",
       "      <td>180000.0</td>\n",
       "      <td>2</td>\n",
       "      <td>1.00</td>\n",
       "      <td>770</td>\n",
       "      <td>10000</td>\n",
       "      <td>1.0</td>\n",
       "      <td>0.0</td>\n",
       "      <td>0.0</td>\n",
       "      <td>...</td>\n",
       "      <td>6</td>\n",
       "      <td>770</td>\n",
       "      <td>0.0</td>\n",
       "      <td>1933</td>\n",
       "      <td>NaN</td>\n",
       "      <td>98028</td>\n",
       "      <td>47.7379</td>\n",
       "      <td>-122.233</td>\n",
       "      <td>2720</td>\n",
       "      <td>8062</td>\n",
       "    </tr>\n",
       "    <tr>\n",
       "      <th>3</th>\n",
       "      <td>2487200875</td>\n",
       "      <td>12/9/2014</td>\n",
       "      <td>604000.0</td>\n",
       "      <td>4</td>\n",
       "      <td>3.00</td>\n",
       "      <td>1960</td>\n",
       "      <td>5000</td>\n",
       "      <td>1.0</td>\n",
       "      <td>0.0</td>\n",
       "      <td>0.0</td>\n",
       "      <td>...</td>\n",
       "      <td>7</td>\n",
       "      <td>1050</td>\n",
       "      <td>910.0</td>\n",
       "      <td>1965</td>\n",
       "      <td>0.0</td>\n",
       "      <td>98136</td>\n",
       "      <td>47.5208</td>\n",
       "      <td>-122.393</td>\n",
       "      <td>1360</td>\n",
       "      <td>5000</td>\n",
       "    </tr>\n",
       "    <tr>\n",
       "      <th>4</th>\n",
       "      <td>1954400510</td>\n",
       "      <td>2/18/2015</td>\n",
       "      <td>510000.0</td>\n",
       "      <td>3</td>\n",
       "      <td>2.00</td>\n",
       "      <td>1680</td>\n",
       "      <td>8080</td>\n",
       "      <td>1.0</td>\n",
       "      <td>0.0</td>\n",
       "      <td>0.0</td>\n",
       "      <td>...</td>\n",
       "      <td>8</td>\n",
       "      <td>1680</td>\n",
       "      <td>0.0</td>\n",
       "      <td>1987</td>\n",
       "      <td>0.0</td>\n",
       "      <td>98074</td>\n",
       "      <td>47.6168</td>\n",
       "      <td>-122.045</td>\n",
       "      <td>1800</td>\n",
       "      <td>7503</td>\n",
       "    </tr>\n",
       "  </tbody>\n",
       "</table>\n",
       "<p>5 rows × 21 columns</p>\n",
       "</div>"
      ],
      "text/plain": [
       "           id        date     price  bedrooms  bathrooms  sqft_living  \\\n",
       "0  7129300520  10/13/2014  221900.0         3       1.00         1180   \n",
       "1  6414100192   12/9/2014  538000.0         3       2.25         2570   \n",
       "2  5631500400   2/25/2015  180000.0         2       1.00          770   \n",
       "3  2487200875   12/9/2014  604000.0         4       3.00         1960   \n",
       "4  1954400510   2/18/2015  510000.0         3       2.00         1680   \n",
       "\n",
       "   sqft_lot  floors  waterfront  view     ...      grade  sqft_above  \\\n",
       "0      5650     1.0         NaN   0.0     ...          7        1180   \n",
       "1      7242     2.0         0.0   0.0     ...          7        2170   \n",
       "2     10000     1.0         0.0   0.0     ...          6         770   \n",
       "3      5000     1.0         0.0   0.0     ...          7        1050   \n",
       "4      8080     1.0         0.0   0.0     ...          8        1680   \n",
       "\n",
       "   sqft_basement yr_built  yr_renovated  zipcode      lat     long  \\\n",
       "0            0.0     1955           0.0    98178  47.5112 -122.257   \n",
       "1          400.0     1951        1991.0    98125  47.7210 -122.319   \n",
       "2            0.0     1933           NaN    98028  47.7379 -122.233   \n",
       "3          910.0     1965           0.0    98136  47.5208 -122.393   \n",
       "4            0.0     1987           0.0    98074  47.6168 -122.045   \n",
       "\n",
       "   sqft_living15  sqft_lot15  \n",
       "0           1340        5650  \n",
       "1           1690        7639  \n",
       "2           2720        8062  \n",
       "3           1360        5000  \n",
       "4           1800        7503  \n",
       "\n",
       "[5 rows x 21 columns]"
      ]
     },
     "execution_count": 3,
     "metadata": {},
     "output_type": "execute_result"
    }
   ],
   "source": [
    "kcdata.head()"
   ]
  },
  {
   "cell_type": "code",
   "execution_count": 4,
   "metadata": {},
   "outputs": [
    {
     "data": {
      "text/plain": [
       "Index(['id', 'date', 'price', 'bedrooms', 'bathrooms', 'sqft_living',\n",
       "       'sqft_lot', 'floors', 'waterfront', 'view', 'condition', 'grade',\n",
       "       'sqft_above', 'sqft_basement', 'yr_built', 'yr_renovated', 'zipcode',\n",
       "       'lat', 'long', 'sqft_living15', 'sqft_lot15'],\n",
       "      dtype='object')"
      ]
     },
     "execution_count": 4,
     "metadata": {},
     "output_type": "execute_result"
    }
   ],
   "source": [
    "kcdata.columns"
   ]
  },
  {
   "cell_type": "markdown",
   "metadata": {},
   "source": [
    "# II. Data Scrubbing\n",
    "\n",
    "\n",
    "\n",
    "* Identify and deal with null values appropriately\n",
    "* Cast columns to the appropriate data types\n",
    "* Remove unnecessary columns\n",
    "* Check for and deal with multicollinearity\n",
    "* Normalize our data"
   ]
  },
  {
   "cell_type": "markdown",
   "metadata": {},
   "source": [
    "### Deal with missing values"
   ]
  },
  {
   "cell_type": "code",
   "execution_count": 7,
   "metadata": {
    "scrolled": true
   },
   "outputs": [
    {
     "name": "stdout",
     "output_type": "stream",
     "text": [
      "<class 'pandas.core.frame.DataFrame'>\n",
      "RangeIndex: 21597 entries, 0 to 21596\n",
      "Data columns (total 21 columns):\n",
      "id               21597 non-null int64\n",
      "date             21597 non-null object\n",
      "price            21597 non-null float64\n",
      "bedrooms         21597 non-null int64\n",
      "bathrooms        21597 non-null float64\n",
      "sqft_living      21597 non-null int64\n",
      "sqft_lot         21597 non-null int64\n",
      "floors           21597 non-null float64\n",
      "waterfront       19221 non-null float64\n",
      "view             21534 non-null float64\n",
      "condition        21597 non-null int64\n",
      "grade            21597 non-null int64\n",
      "sqft_above       21597 non-null int64\n",
      "sqft_basement    21597 non-null object\n",
      "yr_built         21597 non-null int64\n",
      "yr_renovated     17755 non-null float64\n",
      "zipcode          21597 non-null int64\n",
      "lat              21597 non-null float64\n",
      "long             21597 non-null float64\n",
      "sqft_living15    21597 non-null int64\n",
      "sqft_lot15       21597 non-null int64\n",
      "dtypes: float64(8), int64(11), object(2)\n",
      "memory usage: 3.5+ MB\n"
     ]
    }
   ],
   "source": [
    "#Identify missing value: waterfront, view, yr_renovated, and incorrect data type: sqft_basement\n",
    "kcdata.info()"
   ]
  },
  {
   "cell_type": "code",
   "execution_count": 8,
   "metadata": {},
   "outputs": [
    {
     "data": {
      "text/plain": [
       "id                  0\n",
       "date                0\n",
       "price               0\n",
       "bedrooms            0\n",
       "bathrooms           0\n",
       "sqft_living         0\n",
       "sqft_lot            0\n",
       "floors              0\n",
       "waterfront       2376\n",
       "view               63\n",
       "condition           0\n",
       "grade               0\n",
       "sqft_above          0\n",
       "sqft_basement       0\n",
       "yr_built            0\n",
       "yr_renovated     3842\n",
       "zipcode             0\n",
       "lat                 0\n",
       "long                0\n",
       "sqft_living15       0\n",
       "sqft_lot15          0\n",
       "dtype: int64"
      ]
     },
     "execution_count": 8,
     "metadata": {},
     "output_type": "execute_result"
    }
   ],
   "source": [
    "kcdata.isnull().sum()"
   ]
  },
  {
   "cell_type": "code",
   "execution_count": 7,
   "metadata": {
    "scrolled": true
   },
   "outputs": [
    {
     "name": "stdout",
     "output_type": "stream",
     "text": [
      "Counter({0.0: 21451, 1.0: 146})\n"
     ]
    }
   ],
   "source": [
    "#For Categorical data 'Waterfront', replace NAN with mode 0 since it is highly possible that the house doesn't have a waterfront. \n",
    "kcdata['waterfront'].value_counts()\n",
    "kcdata['waterfront'] = kcdata['waterfront'].fillna(0)\n",
    "\n",
    "counter = Counter()\n",
    "counter = Counter(kcdata['waterfront'])\n",
    "print(counter)"
   ]
  },
  {
   "cell_type": "markdown",
   "metadata": {},
   "source": [
    "For view, this variable presents how many times people have viewed the house. Majority of the values are zero. So we will replace NAN with 0."
   ]
  },
  {
   "cell_type": "code",
   "execution_count": 11,
   "metadata": {},
   "outputs": [
    {
     "name": "stdout",
     "output_type": "stream",
     "text": [
      "Counter({0.0: 19485, 2.0: 957, 3.0: 508, 1.0: 330, 4.0: 317})\n"
     ]
    }
   ],
   "source": [
    "kcdata['view'].unique()\n",
    "kcdata['view'] = kcdata['view'].fillna(0)\n",
    "counter = Counter()\n",
    "counter = Counter(kcdata['view'])\n",
    "print(counter)\n"
   ]
  },
  {
   "cell_type": "code",
   "execution_count": 9,
   "metadata": {},
   "outputs": [],
   "source": [
    "#There are too many missing values in yr_renovated. And it may not be fair to replace NAN with average. \n",
    "#So we will probably not consider this variable into the model.We will fill NaN and remove this column now.\n",
    "%matplotlib inline\n",
    "kcdata['yr_renovated'].fillna(0);\n",
    "kcdata = kcdata.drop('yr_renovated', axis =1);\n",
    "#kcdata['yr_renovated'].hist()"
   ]
  },
  {
   "cell_type": "code",
   "execution_count": 12,
   "metadata": {
    "scrolled": true
   },
   "outputs": [
    {
     "data": {
      "text/html": [
       "<div>\n",
       "<style scoped>\n",
       "    .dataframe tbody tr th:only-of-type {\n",
       "        vertical-align: middle;\n",
       "    }\n",
       "\n",
       "    .dataframe tbody tr th {\n",
       "        vertical-align: top;\n",
       "    }\n",
       "\n",
       "    .dataframe thead th {\n",
       "        text-align: right;\n",
       "    }\n",
       "</style>\n",
       "<table border=\"1\" class=\"dataframe\">\n",
       "  <thead>\n",
       "    <tr style=\"text-align: right;\">\n",
       "      <th></th>\n",
       "      <th>id</th>\n",
       "      <th>price</th>\n",
       "      <th>bedrooms</th>\n",
       "      <th>bathrooms</th>\n",
       "      <th>sqft_living</th>\n",
       "      <th>sqft_lot</th>\n",
       "      <th>floors</th>\n",
       "      <th>waterfront</th>\n",
       "      <th>view</th>\n",
       "      <th>condition</th>\n",
       "      <th>grade</th>\n",
       "      <th>sqft_above</th>\n",
       "      <th>yr_built</th>\n",
       "      <th>yr_renovated</th>\n",
       "      <th>zipcode</th>\n",
       "      <th>lat</th>\n",
       "      <th>long</th>\n",
       "      <th>sqft_living15</th>\n",
       "      <th>sqft_lot15</th>\n",
       "    </tr>\n",
       "  </thead>\n",
       "  <tbody>\n",
       "    <tr>\n",
       "      <th>count</th>\n",
       "      <td>2.159700e+04</td>\n",
       "      <td>2.159700e+04</td>\n",
       "      <td>21597.000000</td>\n",
       "      <td>21597.000000</td>\n",
       "      <td>21597.000000</td>\n",
       "      <td>2.159700e+04</td>\n",
       "      <td>21597.000000</td>\n",
       "      <td>19221.000000</td>\n",
       "      <td>21597.000000</td>\n",
       "      <td>21597.000000</td>\n",
       "      <td>21597.000000</td>\n",
       "      <td>21597.000000</td>\n",
       "      <td>21597.000000</td>\n",
       "      <td>17755.000000</td>\n",
       "      <td>21597.000000</td>\n",
       "      <td>21597.000000</td>\n",
       "      <td>21597.000000</td>\n",
       "      <td>21597.000000</td>\n",
       "      <td>21597.000000</td>\n",
       "    </tr>\n",
       "    <tr>\n",
       "      <th>mean</th>\n",
       "      <td>4.580474e+09</td>\n",
       "      <td>5.402966e+05</td>\n",
       "      <td>3.373200</td>\n",
       "      <td>2.115826</td>\n",
       "      <td>2080.321850</td>\n",
       "      <td>1.509941e+04</td>\n",
       "      <td>1.494096</td>\n",
       "      <td>0.007596</td>\n",
       "      <td>0.233181</td>\n",
       "      <td>3.409825</td>\n",
       "      <td>7.657915</td>\n",
       "      <td>1788.596842</td>\n",
       "      <td>1970.999676</td>\n",
       "      <td>83.636778</td>\n",
       "      <td>98077.951845</td>\n",
       "      <td>47.560093</td>\n",
       "      <td>-122.213982</td>\n",
       "      <td>1986.620318</td>\n",
       "      <td>12758.283512</td>\n",
       "    </tr>\n",
       "    <tr>\n",
       "      <th>std</th>\n",
       "      <td>2.876736e+09</td>\n",
       "      <td>3.673681e+05</td>\n",
       "      <td>0.926299</td>\n",
       "      <td>0.768984</td>\n",
       "      <td>918.106125</td>\n",
       "      <td>4.141264e+04</td>\n",
       "      <td>0.539683</td>\n",
       "      <td>0.086825</td>\n",
       "      <td>0.764673</td>\n",
       "      <td>0.650546</td>\n",
       "      <td>1.173200</td>\n",
       "      <td>827.759761</td>\n",
       "      <td>29.375234</td>\n",
       "      <td>399.946414</td>\n",
       "      <td>53.513072</td>\n",
       "      <td>0.138552</td>\n",
       "      <td>0.140724</td>\n",
       "      <td>685.230472</td>\n",
       "      <td>27274.441950</td>\n",
       "    </tr>\n",
       "    <tr>\n",
       "      <th>min</th>\n",
       "      <td>1.000102e+06</td>\n",
       "      <td>7.800000e+04</td>\n",
       "      <td>1.000000</td>\n",
       "      <td>0.500000</td>\n",
       "      <td>370.000000</td>\n",
       "      <td>5.200000e+02</td>\n",
       "      <td>1.000000</td>\n",
       "      <td>0.000000</td>\n",
       "      <td>0.000000</td>\n",
       "      <td>1.000000</td>\n",
       "      <td>3.000000</td>\n",
       "      <td>370.000000</td>\n",
       "      <td>1900.000000</td>\n",
       "      <td>0.000000</td>\n",
       "      <td>98001.000000</td>\n",
       "      <td>47.155900</td>\n",
       "      <td>-122.519000</td>\n",
       "      <td>399.000000</td>\n",
       "      <td>651.000000</td>\n",
       "    </tr>\n",
       "    <tr>\n",
       "      <th>25%</th>\n",
       "      <td>2.123049e+09</td>\n",
       "      <td>3.220000e+05</td>\n",
       "      <td>3.000000</td>\n",
       "      <td>1.750000</td>\n",
       "      <td>1430.000000</td>\n",
       "      <td>5.040000e+03</td>\n",
       "      <td>1.000000</td>\n",
       "      <td>0.000000</td>\n",
       "      <td>0.000000</td>\n",
       "      <td>3.000000</td>\n",
       "      <td>7.000000</td>\n",
       "      <td>1190.000000</td>\n",
       "      <td>1951.000000</td>\n",
       "      <td>0.000000</td>\n",
       "      <td>98033.000000</td>\n",
       "      <td>47.471100</td>\n",
       "      <td>-122.328000</td>\n",
       "      <td>1490.000000</td>\n",
       "      <td>5100.000000</td>\n",
       "    </tr>\n",
       "    <tr>\n",
       "      <th>50%</th>\n",
       "      <td>3.904930e+09</td>\n",
       "      <td>4.500000e+05</td>\n",
       "      <td>3.000000</td>\n",
       "      <td>2.250000</td>\n",
       "      <td>1910.000000</td>\n",
       "      <td>7.618000e+03</td>\n",
       "      <td>1.500000</td>\n",
       "      <td>0.000000</td>\n",
       "      <td>0.000000</td>\n",
       "      <td>3.000000</td>\n",
       "      <td>7.000000</td>\n",
       "      <td>1560.000000</td>\n",
       "      <td>1975.000000</td>\n",
       "      <td>0.000000</td>\n",
       "      <td>98065.000000</td>\n",
       "      <td>47.571800</td>\n",
       "      <td>-122.231000</td>\n",
       "      <td>1840.000000</td>\n",
       "      <td>7620.000000</td>\n",
       "    </tr>\n",
       "    <tr>\n",
       "      <th>75%</th>\n",
       "      <td>7.308900e+09</td>\n",
       "      <td>6.450000e+05</td>\n",
       "      <td>4.000000</td>\n",
       "      <td>2.500000</td>\n",
       "      <td>2550.000000</td>\n",
       "      <td>1.068500e+04</td>\n",
       "      <td>2.000000</td>\n",
       "      <td>0.000000</td>\n",
       "      <td>0.000000</td>\n",
       "      <td>4.000000</td>\n",
       "      <td>8.000000</td>\n",
       "      <td>2210.000000</td>\n",
       "      <td>1997.000000</td>\n",
       "      <td>0.000000</td>\n",
       "      <td>98118.000000</td>\n",
       "      <td>47.678000</td>\n",
       "      <td>-122.125000</td>\n",
       "      <td>2360.000000</td>\n",
       "      <td>10083.000000</td>\n",
       "    </tr>\n",
       "    <tr>\n",
       "      <th>max</th>\n",
       "      <td>9.900000e+09</td>\n",
       "      <td>7.700000e+06</td>\n",
       "      <td>33.000000</td>\n",
       "      <td>8.000000</td>\n",
       "      <td>13540.000000</td>\n",
       "      <td>1.651359e+06</td>\n",
       "      <td>3.500000</td>\n",
       "      <td>1.000000</td>\n",
       "      <td>4.000000</td>\n",
       "      <td>5.000000</td>\n",
       "      <td>13.000000</td>\n",
       "      <td>9410.000000</td>\n",
       "      <td>2015.000000</td>\n",
       "      <td>2015.000000</td>\n",
       "      <td>98199.000000</td>\n",
       "      <td>47.777600</td>\n",
       "      <td>-121.315000</td>\n",
       "      <td>6210.000000</td>\n",
       "      <td>871200.000000</td>\n",
       "    </tr>\n",
       "  </tbody>\n",
       "</table>\n",
       "</div>"
      ],
      "text/plain": [
       "                 id         price      bedrooms     bathrooms   sqft_living  \\\n",
       "count  2.159700e+04  2.159700e+04  21597.000000  21597.000000  21597.000000   \n",
       "mean   4.580474e+09  5.402966e+05      3.373200      2.115826   2080.321850   \n",
       "std    2.876736e+09  3.673681e+05      0.926299      0.768984    918.106125   \n",
       "min    1.000102e+06  7.800000e+04      1.000000      0.500000    370.000000   \n",
       "25%    2.123049e+09  3.220000e+05      3.000000      1.750000   1430.000000   \n",
       "50%    3.904930e+09  4.500000e+05      3.000000      2.250000   1910.000000   \n",
       "75%    7.308900e+09  6.450000e+05      4.000000      2.500000   2550.000000   \n",
       "max    9.900000e+09  7.700000e+06     33.000000      8.000000  13540.000000   \n",
       "\n",
       "           sqft_lot        floors    waterfront          view     condition  \\\n",
       "count  2.159700e+04  21597.000000  19221.000000  21597.000000  21597.000000   \n",
       "mean   1.509941e+04      1.494096      0.007596      0.233181      3.409825   \n",
       "std    4.141264e+04      0.539683      0.086825      0.764673      0.650546   \n",
       "min    5.200000e+02      1.000000      0.000000      0.000000      1.000000   \n",
       "25%    5.040000e+03      1.000000      0.000000      0.000000      3.000000   \n",
       "50%    7.618000e+03      1.500000      0.000000      0.000000      3.000000   \n",
       "75%    1.068500e+04      2.000000      0.000000      0.000000      4.000000   \n",
       "max    1.651359e+06      3.500000      1.000000      4.000000      5.000000   \n",
       "\n",
       "              grade    sqft_above      yr_built  yr_renovated       zipcode  \\\n",
       "count  21597.000000  21597.000000  21597.000000  17755.000000  21597.000000   \n",
       "mean       7.657915   1788.596842   1970.999676     83.636778  98077.951845   \n",
       "std        1.173200    827.759761     29.375234    399.946414     53.513072   \n",
       "min        3.000000    370.000000   1900.000000      0.000000  98001.000000   \n",
       "25%        7.000000   1190.000000   1951.000000      0.000000  98033.000000   \n",
       "50%        7.000000   1560.000000   1975.000000      0.000000  98065.000000   \n",
       "75%        8.000000   2210.000000   1997.000000      0.000000  98118.000000   \n",
       "max       13.000000   9410.000000   2015.000000   2015.000000  98199.000000   \n",
       "\n",
       "                lat          long  sqft_living15     sqft_lot15  \n",
       "count  21597.000000  21597.000000   21597.000000   21597.000000  \n",
       "mean      47.560093   -122.213982    1986.620318   12758.283512  \n",
       "std        0.138552      0.140724     685.230472   27274.441950  \n",
       "min       47.155900   -122.519000     399.000000     651.000000  \n",
       "25%       47.471100   -122.328000    1490.000000    5100.000000  \n",
       "50%       47.571800   -122.231000    1840.000000    7620.000000  \n",
       "75%       47.678000   -122.125000    2360.000000   10083.000000  \n",
       "max       47.777600   -121.315000    6210.000000  871200.000000  "
      ]
     },
     "execution_count": 12,
     "metadata": {},
     "output_type": "execute_result"
    }
   ],
   "source": [
    "kcdata.describe()"
   ]
  },
  {
   "cell_type": "code",
   "execution_count": 13,
   "metadata": {
    "scrolled": false
   },
   "outputs": [
    {
     "data": {
      "text/plain": [
       "id                  0\n",
       "date                0\n",
       "price               0\n",
       "bedrooms            0\n",
       "bathrooms           0\n",
       "sqft_living         0\n",
       "sqft_lot            0\n",
       "floors              0\n",
       "waterfront       2376\n",
       "view                0\n",
       "condition           0\n",
       "grade               0\n",
       "sqft_above          0\n",
       "sqft_basement       0\n",
       "yr_built            0\n",
       "yr_renovated     3842\n",
       "zipcode             0\n",
       "lat                 0\n",
       "long                0\n",
       "sqft_living15       0\n",
       "sqft_lot15          0\n",
       "dtype: int64"
      ]
     },
     "execution_count": 13,
     "metadata": {},
     "output_type": "execute_result"
    }
   ],
   "source": [
    "kcdata.isna().sum()"
   ]
  },
  {
   "cell_type": "markdown",
   "metadata": {},
   "source": [
    "### Cast columns to the appropriate data types\n",
    "\n",
    "Obvious fix: change date from string to datetime, sqft_basement to continuous, waterfront as categorical\n",
    "\n",
    "Condition and grade are ordinal variables with limited values. View and Floors have limited values too. Can group them into bins. "
   ]
  },
  {
   "cell_type": "code",
   "execution_count": 12,
   "metadata": {},
   "outputs": [
    {
     "data": {
      "text/html": [
       "<div>\n",
       "<style scoped>\n",
       "    .dataframe tbody tr th:only-of-type {\n",
       "        vertical-align: middle;\n",
       "    }\n",
       "\n",
       "    .dataframe tbody tr th {\n",
       "        vertical-align: top;\n",
       "    }\n",
       "\n",
       "    .dataframe thead th {\n",
       "        text-align: right;\n",
       "    }\n",
       "</style>\n",
       "<table border=\"1\" class=\"dataframe\">\n",
       "  <thead>\n",
       "    <tr style=\"text-align: right;\">\n",
       "      <th></th>\n",
       "      <th>id</th>\n",
       "      <th>date</th>\n",
       "      <th>price</th>\n",
       "      <th>bedrooms</th>\n",
       "      <th>bathrooms</th>\n",
       "      <th>sqft_living</th>\n",
       "      <th>sqft_lot</th>\n",
       "      <th>floors</th>\n",
       "      <th>waterfront</th>\n",
       "      <th>view</th>\n",
       "      <th>condition</th>\n",
       "      <th>grade</th>\n",
       "      <th>sqft_above</th>\n",
       "      <th>sqft_basement</th>\n",
       "      <th>yr_built</th>\n",
       "      <th>zipcode</th>\n",
       "      <th>lat</th>\n",
       "      <th>long</th>\n",
       "      <th>sqft_living15</th>\n",
       "      <th>sqft_lot15</th>\n",
       "    </tr>\n",
       "  </thead>\n",
       "  <tbody>\n",
       "    <tr>\n",
       "      <th>0</th>\n",
       "      <td>7129300520</td>\n",
       "      <td>2014-10-13</td>\n",
       "      <td>221900.0</td>\n",
       "      <td>3</td>\n",
       "      <td>1.00</td>\n",
       "      <td>1180</td>\n",
       "      <td>5650</td>\n",
       "      <td>1.0</td>\n",
       "      <td>0.0</td>\n",
       "      <td>0.0</td>\n",
       "      <td>3</td>\n",
       "      <td>7</td>\n",
       "      <td>1180</td>\n",
       "      <td>0.0</td>\n",
       "      <td>1955</td>\n",
       "      <td>98178</td>\n",
       "      <td>47.5112</td>\n",
       "      <td>-122.257</td>\n",
       "      <td>1340</td>\n",
       "      <td>5650</td>\n",
       "    </tr>\n",
       "    <tr>\n",
       "      <th>1</th>\n",
       "      <td>6414100192</td>\n",
       "      <td>2014-12-09</td>\n",
       "      <td>538000.0</td>\n",
       "      <td>3</td>\n",
       "      <td>2.25</td>\n",
       "      <td>2570</td>\n",
       "      <td>7242</td>\n",
       "      <td>2.0</td>\n",
       "      <td>0.0</td>\n",
       "      <td>0.0</td>\n",
       "      <td>3</td>\n",
       "      <td>7</td>\n",
       "      <td>2170</td>\n",
       "      <td>400.0</td>\n",
       "      <td>1951</td>\n",
       "      <td>98125</td>\n",
       "      <td>47.7210</td>\n",
       "      <td>-122.319</td>\n",
       "      <td>1690</td>\n",
       "      <td>7639</td>\n",
       "    </tr>\n",
       "    <tr>\n",
       "      <th>2</th>\n",
       "      <td>5631500400</td>\n",
       "      <td>2015-02-25</td>\n",
       "      <td>180000.0</td>\n",
       "      <td>2</td>\n",
       "      <td>1.00</td>\n",
       "      <td>770</td>\n",
       "      <td>10000</td>\n",
       "      <td>1.0</td>\n",
       "      <td>0.0</td>\n",
       "      <td>0.0</td>\n",
       "      <td>3</td>\n",
       "      <td>6</td>\n",
       "      <td>770</td>\n",
       "      <td>0.0</td>\n",
       "      <td>1933</td>\n",
       "      <td>98028</td>\n",
       "      <td>47.7379</td>\n",
       "      <td>-122.233</td>\n",
       "      <td>2720</td>\n",
       "      <td>8062</td>\n",
       "    </tr>\n",
       "    <tr>\n",
       "      <th>3</th>\n",
       "      <td>2487200875</td>\n",
       "      <td>2014-12-09</td>\n",
       "      <td>604000.0</td>\n",
       "      <td>4</td>\n",
       "      <td>3.00</td>\n",
       "      <td>1960</td>\n",
       "      <td>5000</td>\n",
       "      <td>1.0</td>\n",
       "      <td>0.0</td>\n",
       "      <td>0.0</td>\n",
       "      <td>5</td>\n",
       "      <td>7</td>\n",
       "      <td>1050</td>\n",
       "      <td>910.0</td>\n",
       "      <td>1965</td>\n",
       "      <td>98136</td>\n",
       "      <td>47.5208</td>\n",
       "      <td>-122.393</td>\n",
       "      <td>1360</td>\n",
       "      <td>5000</td>\n",
       "    </tr>\n",
       "    <tr>\n",
       "      <th>4</th>\n",
       "      <td>1954400510</td>\n",
       "      <td>2015-02-18</td>\n",
       "      <td>510000.0</td>\n",
       "      <td>3</td>\n",
       "      <td>2.00</td>\n",
       "      <td>1680</td>\n",
       "      <td>8080</td>\n",
       "      <td>1.0</td>\n",
       "      <td>0.0</td>\n",
       "      <td>0.0</td>\n",
       "      <td>3</td>\n",
       "      <td>8</td>\n",
       "      <td>1680</td>\n",
       "      <td>0.0</td>\n",
       "      <td>1987</td>\n",
       "      <td>98074</td>\n",
       "      <td>47.6168</td>\n",
       "      <td>-122.045</td>\n",
       "      <td>1800</td>\n",
       "      <td>7503</td>\n",
       "    </tr>\n",
       "  </tbody>\n",
       "</table>\n",
       "</div>"
      ],
      "text/plain": [
       "           id       date     price  bedrooms  bathrooms  sqft_living  \\\n",
       "0  7129300520 2014-10-13  221900.0         3       1.00         1180   \n",
       "1  6414100192 2014-12-09  538000.0         3       2.25         2570   \n",
       "2  5631500400 2015-02-25  180000.0         2       1.00          770   \n",
       "3  2487200875 2014-12-09  604000.0         4       3.00         1960   \n",
       "4  1954400510 2015-02-18  510000.0         3       2.00         1680   \n",
       "\n",
       "   sqft_lot  floors  waterfront  view  condition  grade  sqft_above  \\\n",
       "0      5650     1.0         0.0   0.0          3      7        1180   \n",
       "1      7242     2.0         0.0   0.0          3      7        2170   \n",
       "2     10000     1.0         0.0   0.0          3      6         770   \n",
       "3      5000     1.0         0.0   0.0          5      7        1050   \n",
       "4      8080     1.0         0.0   0.0          3      8        1680   \n",
       "\n",
       "  sqft_basement  yr_built  zipcode      lat     long  sqft_living15  \\\n",
       "0           0.0      1955    98178  47.5112 -122.257           1340   \n",
       "1         400.0      1951    98125  47.7210 -122.319           1690   \n",
       "2           0.0      1933    98028  47.7379 -122.233           2720   \n",
       "3         910.0      1965    98136  47.5208 -122.393           1360   \n",
       "4           0.0      1987    98074  47.6168 -122.045           1800   \n",
       "\n",
       "   sqft_lot15  \n",
       "0        5650  \n",
       "1        7639  \n",
       "2        8062  \n",
       "3        5000  \n",
       "4        7503  "
      ]
     },
     "execution_count": 12,
     "metadata": {},
     "output_type": "execute_result"
    }
   ],
   "source": [
    "#Convert strings into dates\n",
    "from datetime import datetime\n",
    "kcdata['date'].head()\n",
    "f = lambda x: datetime.strptime(x,'%m/%d/%Y')\n",
    "kcdata['date']=kcdata['date'].apply(f)\n",
    "kcdata.head()"
   ]
  },
  {
   "cell_type": "code",
   "execution_count": 13,
   "metadata": {
    "scrolled": true
   },
   "outputs": [
    {
     "name": "stdout",
     "output_type": "stream",
     "text": [
      "<class 'pandas.core.frame.DataFrame'>\n",
      "RangeIndex: 21597 entries, 0 to 21596\n",
      "Data columns (total 20 columns):\n",
      "id               21597 non-null int64\n",
      "date             21597 non-null datetime64[ns]\n",
      "price            21597 non-null float64\n",
      "bedrooms         21597 non-null int64\n",
      "bathrooms        21597 non-null float64\n",
      "sqft_living      21597 non-null int64\n",
      "sqft_lot         21597 non-null int64\n",
      "floors           21597 non-null float64\n",
      "waterfront       21597 non-null float64\n",
      "view             21597 non-null float64\n",
      "condition        21597 non-null int64\n",
      "grade            21597 non-null int64\n",
      "sqft_above       21597 non-null int64\n",
      "sqft_basement    21597 non-null float64\n",
      "yr_built         21597 non-null int64\n",
      "zipcode          21597 non-null int64\n",
      "lat              21597 non-null float64\n",
      "long             21597 non-null float64\n",
      "sqft_living15    21597 non-null int64\n",
      "sqft_lot15       21597 non-null int64\n",
      "dtypes: datetime64[ns](1), float64(8), int64(11)\n",
      "memory usage: 3.3 MB\n"
     ]
    }
   ],
   "source": [
    "#Convert sqft_basement column from string to numerical\n",
    "kcdata['sqft_basement'].value_counts()\n",
    "\n",
    "#Replace ? with zeros for now.\n",
    "kcdata['sqft_basement'] = kcdata['sqft_basement'].replace('?','0')\n",
    "\n",
    "\n",
    "kcdata['sqft_basement'] = kcdata['sqft_basement'].astype(float)\n",
    "kcdata.info()"
   ]
  },
  {
   "cell_type": "markdown",
   "metadata": {},
   "source": [
    "## Part II: Exploratory Data Analysis"
   ]
  },
  {
   "cell_type": "markdown",
   "metadata": {},
   "source": [
    "From the data dictionary below we can probably tell some are continuous variables (footage of the home/lot/basement/yr_built) and some might be numerical but more like categorical (number of bathrooms/bedrooms, waterfront, view, condition, grade), and other variables we are not sure (zipcode,lat,long). We will visualize them next.\n",
    "\n",
    "* **id** - unique identified for a house\n",
    "* **dateDate** - house was sold\n",
    "* **pricePrice** -  is prediction target\n",
    "* **bedroomsNumber** -  of Bedrooms/House\n",
    "* **bathroomsNumber** -  of bathrooms/bedrooms\n",
    "* **sqft_livingsquare** -  footage of the home\n",
    "* **sqft_lotsquare** -  footage of the lot\n",
    "* **floorsTotal** -  floors (levels) in house\n",
    "* **waterfront** - House which has a view to a waterfront\n",
    "* **view** - Has been viewed\n",
    "* **condition** - How good the condition is ( Overall )\n",
    "* **grade** - overall grade given to the housing unit, based on King County grading system\n",
    "* **sqft_above** - square footage of house apart from basement\n",
    "* **sqft_basement** - square footage of the basement\n",
    "* **yr_built** - Built Year\n",
    "* **yr_renovated** - Year when house was renovated\n",
    "* **zipcode** - zip\n",
    "* **lat** - Latitude coordinate\n",
    "* **long** - Longitude coordinate\n",
    "* **sqft_living15** - The square footage of interior housing living space for the nearest 15 neighbors\n",
    "* **sqft_lot15** - The square footage of the land lots of the nearest 15 neighbors"
   ]
  },
  {
   "cell_type": "code",
   "execution_count": 14,
   "metadata": {
    "scrolled": true
   },
   "outputs": [
    {
     "data": {
      "image/png": "[encoded data removed]",
      "text/plain": [
       "<Figure size 1152x216 with 3 Axes>"
      ]
     },
     "metadata": {
      "needs_background": "light"
     },
     "output_type": "display_data"
    },
    {
     "data": {
      "image/png": "[encoded data removed]",
      "text/plain": [
       "<Figure size 1152x216 with 3 Axes>"
      ]
     },
     "metadata": {
      "needs_background": "light"
     },
     "output_type": "display_data"
    },
    {
     "data": {
      "image/png": "[encoded data removed]",
      "text/plain": [
       "<Figure size 1152x216 with 3 Axes>"
      ]
     },
     "metadata": {
      "needs_background": "light"
     },
     "output_type": "display_data"
    }
   ],
   "source": [
    "#Plotting potential continuous variables\n",
    "\n",
    "fig, axes = plt.subplots(nrows=1, ncols=3, figsize=(16,3))\n",
    "con_list = ['sqft_living','sqft_lot','sqft_above']\n",
    "\n",
    "for xcol, ax in zip(con_list, axes):\n",
    "    kcdata.plot(kind='scatter', x=xcol, y='price', ax=ax, alpha=0.3)\n",
    "\n",
    "fig, axes = plt.subplots(nrows=1, ncols=3, figsize=(16,3))\n",
    "con_list2 =['sqft_living15','sqft_lot15','yr_built']\n",
    "\n",
    "for xcol, ax in zip(con_list2, axes):\n",
    "    kcdata.plot(kind='scatter', x=xcol, y='price', ax=ax, alpha=0.3)\n",
    "    \n",
    "#Plotting zipcode\n",
    "\n",
    "fig, axes = plt.subplots(nrows=1,ncols=3, figsize=(16,3))\n",
    "geo_list = ['zipcode','lat','long']\n",
    "\n",
    "for xcol, ax in zip(geo_list, axes):\n",
    "    kcdata.plot(kind='scatter', x=xcol, y='price', ax=ax, alpha=0.3)\n"
   ]
  },
  {
   "cell_type": "markdown",
   "metadata": {},
   "source": [
    "Observation: From the scattered plots above, we can tell sqft_living, sqft_above, sqft_living15 have positive correlation with house price, while yr_built and zipcode do not have obvious relationship with house price. Also from the plot, we can tell that the shape of sqft_living and sqft_living15 are similar while sqft_lot and sqft_lot15 are very similar too. So probably these two sets of variables are highly correlated."
   ]
  },
  {
   "cell_type": "code",
   "execution_count": null,
   "metadata": {},
   "outputs": [],
   "source": []
  },
  {
   "cell_type": "markdown",
   "metadata": {},
   "source": []
  },
  {
   "cell_type": "code",
   "execution_count": 15,
   "metadata": {
    "scrolled": true
   },
   "outputs": [
    {
     "data": {
      "image/png": "[encoded data removed]",
      "text/plain": [
       "<Figure size 1152x216 with 4 Axes>"
      ]
     },
     "metadata": {
      "needs_background": "light"
     },
     "output_type": "display_data"
    },
    {
     "data": {
      "image/png": "[encoded data removed]",
      "text/plain": [
       "<Figure size 1152x216 with 3 Axes>"
      ]
     },
     "metadata": {
      "needs_background": "light"
     },
     "output_type": "display_data"
    }
   ],
   "source": [
    "#Plotting other variables. Waterfront is clearly categorical values with binominal values. \n",
    "#While view, condition, grade, bedrooms, bathrooms, and floors present actual numerical values so we can either keep them numerical or transform them into categorical values. \n",
    "\n",
    "fig, axes = plt.subplots(nrows=1, ncols=4, figsize=(16,3))\n",
    "cat_list1 = ['grade','bedrooms', 'bathrooms','floors']\n",
    "\n",
    "\n",
    "for xcol, ax in zip(cat_list1, axes):\n",
    "    kcdata.plot(kind='scatter', x=xcol, y='price', ax=ax, alpha=0.3, color='g')\n",
    "\n",
    "fig, axes = plt.subplots(nrows=1, ncols=3, figsize=(16,3))    \n",
    "cat_list2=['waterfront', 'view', 'condition']\n",
    "for xcol, ax in zip(cat_list2, axes):\n",
    "    kcdata.plot(kind='scatter', x=xcol, y='price', ax=ax, alpha=0.3, color='b')"
   ]
  },
  {
   "cell_type": "markdown",
   "metadata": {},
   "source": [
    "## Turn condition to dummy columns"
   ]
  },
  {
   "cell_type": "code",
   "execution_count": 16,
   "metadata": {},
   "outputs": [],
   "source": [
    "\n",
    "kcdata['view']=kcdata['view'].fillna(0)\n",
    "kcdata['view'] = kcdata['view'].astype(int)\n"
   ]
  },
  {
   "cell_type": "code",
   "execution_count": 17,
   "metadata": {},
   "outputs": [],
   "source": [
    "view_dummies = pd.get_dummies(kcdata['view'], prefix='view')\n"
   ]
  },
  {
   "cell_type": "code",
   "execution_count": 18,
   "metadata": {},
   "outputs": [],
   "source": [
    "condition_dummies = pd.get_dummies(kcdata['condition'], prefix='con')"
   ]
  },
  {
   "cell_type": "code",
   "execution_count": 19,
   "metadata": {},
   "outputs": [],
   "source": [
    "kcdata=pd.concat([kcdata,view_dummies,condition_dummies], axis=1)"
   ]
  },
  {
   "cell_type": "code",
   "execution_count": 20,
   "metadata": {},
   "outputs": [
    {
     "data": {
      "text/html": [
       "<div>\n",
       "<style scoped>\n",
       "    .dataframe tbody tr th:only-of-type {\n",
       "        vertical-align: middle;\n",
       "    }\n",
       "\n",
       "    .dataframe tbody tr th {\n",
       "        vertical-align: top;\n",
       "    }\n",
       "\n",
       "    .dataframe thead th {\n",
       "        text-align: right;\n",
       "    }\n",
       "</style>\n",
       "<table border=\"1\" class=\"dataframe\">\n",
       "  <thead>\n",
       "    <tr style=\"text-align: right;\">\n",
       "      <th></th>\n",
       "      <th>condition</th>\n",
       "      <th>con_1</th>\n",
       "      <th>con_2</th>\n",
       "      <th>con_3</th>\n",
       "      <th>con_4</th>\n",
       "      <th>con_5</th>\n",
       "    </tr>\n",
       "  </thead>\n",
       "  <tbody>\n",
       "    <tr>\n",
       "      <th>0</th>\n",
       "      <td>3</td>\n",
       "      <td>0</td>\n",
       "      <td>0</td>\n",
       "      <td>1</td>\n",
       "      <td>0</td>\n",
       "      <td>0</td>\n",
       "    </tr>\n",
       "    <tr>\n",
       "      <th>1</th>\n",
       "      <td>3</td>\n",
       "      <td>0</td>\n",
       "      <td>0</td>\n",
       "      <td>1</td>\n",
       "      <td>0</td>\n",
       "      <td>0</td>\n",
       "    </tr>\n",
       "    <tr>\n",
       "      <th>2</th>\n",
       "      <td>3</td>\n",
       "      <td>0</td>\n",
       "      <td>0</td>\n",
       "      <td>1</td>\n",
       "      <td>0</td>\n",
       "      <td>0</td>\n",
       "    </tr>\n",
       "    <tr>\n",
       "      <th>3</th>\n",
       "      <td>5</td>\n",
       "      <td>0</td>\n",
       "      <td>0</td>\n",
       "      <td>0</td>\n",
       "      <td>0</td>\n",
       "      <td>1</td>\n",
       "    </tr>\n",
       "    <tr>\n",
       "      <th>4</th>\n",
       "      <td>3</td>\n",
       "      <td>0</td>\n",
       "      <td>0</td>\n",
       "      <td>1</td>\n",
       "      <td>0</td>\n",
       "      <td>0</td>\n",
       "    </tr>\n",
       "    <tr>\n",
       "      <th>5</th>\n",
       "      <td>3</td>\n",
       "      <td>0</td>\n",
       "      <td>0</td>\n",
       "      <td>1</td>\n",
       "      <td>0</td>\n",
       "      <td>0</td>\n",
       "    </tr>\n",
       "    <tr>\n",
       "      <th>6</th>\n",
       "      <td>3</td>\n",
       "      <td>0</td>\n",
       "      <td>0</td>\n",
       "      <td>1</td>\n",
       "      <td>0</td>\n",
       "      <td>0</td>\n",
       "    </tr>\n",
       "    <tr>\n",
       "      <th>7</th>\n",
       "      <td>3</td>\n",
       "      <td>0</td>\n",
       "      <td>0</td>\n",
       "      <td>1</td>\n",
       "      <td>0</td>\n",
       "      <td>0</td>\n",
       "    </tr>\n",
       "    <tr>\n",
       "      <th>8</th>\n",
       "      <td>3</td>\n",
       "      <td>0</td>\n",
       "      <td>0</td>\n",
       "      <td>1</td>\n",
       "      <td>0</td>\n",
       "      <td>0</td>\n",
       "    </tr>\n",
       "    <tr>\n",
       "      <th>9</th>\n",
       "      <td>3</td>\n",
       "      <td>0</td>\n",
       "      <td>0</td>\n",
       "      <td>1</td>\n",
       "      <td>0</td>\n",
       "      <td>0</td>\n",
       "    </tr>\n",
       "    <tr>\n",
       "      <th>10</th>\n",
       "      <td>3</td>\n",
       "      <td>0</td>\n",
       "      <td>0</td>\n",
       "      <td>1</td>\n",
       "      <td>0</td>\n",
       "      <td>0</td>\n",
       "    </tr>\n",
       "    <tr>\n",
       "      <th>11</th>\n",
       "      <td>4</td>\n",
       "      <td>0</td>\n",
       "      <td>0</td>\n",
       "      <td>0</td>\n",
       "      <td>1</td>\n",
       "      <td>0</td>\n",
       "    </tr>\n",
       "    <tr>\n",
       "      <th>12</th>\n",
       "      <td>4</td>\n",
       "      <td>0</td>\n",
       "      <td>0</td>\n",
       "      <td>0</td>\n",
       "      <td>1</td>\n",
       "      <td>0</td>\n",
       "    </tr>\n",
       "    <tr>\n",
       "      <th>13</th>\n",
       "      <td>4</td>\n",
       "      <td>0</td>\n",
       "      <td>0</td>\n",
       "      <td>0</td>\n",
       "      <td>1</td>\n",
       "      <td>0</td>\n",
       "    </tr>\n",
       "    <tr>\n",
       "      <th>14</th>\n",
       "      <td>3</td>\n",
       "      <td>0</td>\n",
       "      <td>0</td>\n",
       "      <td>1</td>\n",
       "      <td>0</td>\n",
       "      <td>0</td>\n",
       "    </tr>\n",
       "    <tr>\n",
       "      <th>15</th>\n",
       "      <td>3</td>\n",
       "      <td>0</td>\n",
       "      <td>0</td>\n",
       "      <td>1</td>\n",
       "      <td>0</td>\n",
       "      <td>0</td>\n",
       "    </tr>\n",
       "    <tr>\n",
       "      <th>16</th>\n",
       "      <td>3</td>\n",
       "      <td>0</td>\n",
       "      <td>0</td>\n",
       "      <td>1</td>\n",
       "      <td>0</td>\n",
       "      <td>0</td>\n",
       "    </tr>\n",
       "    <tr>\n",
       "      <th>17</th>\n",
       "      <td>4</td>\n",
       "      <td>0</td>\n",
       "      <td>0</td>\n",
       "      <td>0</td>\n",
       "      <td>1</td>\n",
       "      <td>0</td>\n",
       "    </tr>\n",
       "    <tr>\n",
       "      <th>18</th>\n",
       "      <td>4</td>\n",
       "      <td>0</td>\n",
       "      <td>0</td>\n",
       "      <td>0</td>\n",
       "      <td>1</td>\n",
       "      <td>0</td>\n",
       "    </tr>\n",
       "    <tr>\n",
       "      <th>19</th>\n",
       "      <td>4</td>\n",
       "      <td>0</td>\n",
       "      <td>0</td>\n",
       "      <td>0</td>\n",
       "      <td>1</td>\n",
       "      <td>0</td>\n",
       "    </tr>\n",
       "  </tbody>\n",
       "</table>\n",
       "</div>"
      ],
      "text/plain": [
       "    condition  con_1  con_2  con_3  con_4  con_5\n",
       "0           3      0      0      1      0      0\n",
       "1           3      0      0      1      0      0\n",
       "2           3      0      0      1      0      0\n",
       "3           5      0      0      0      0      1\n",
       "4           3      0      0      1      0      0\n",
       "5           3      0      0      1      0      0\n",
       "6           3      0      0      1      0      0\n",
       "7           3      0      0      1      0      0\n",
       "8           3      0      0      1      0      0\n",
       "9           3      0      0      1      0      0\n",
       "10          3      0      0      1      0      0\n",
       "11          4      0      0      0      1      0\n",
       "12          4      0      0      0      1      0\n",
       "13          4      0      0      0      1      0\n",
       "14          3      0      0      1      0      0\n",
       "15          3      0      0      1      0      0\n",
       "16          3      0      0      1      0      0\n",
       "17          4      0      0      0      1      0\n",
       "18          4      0      0      0      1      0\n",
       "19          4      0      0      0      1      0"
      ]
     },
     "execution_count": 20,
     "metadata": {},
     "output_type": "execute_result"
    }
   ],
   "source": [
    "kcdata[['condition','con_1','con_2','con_3','con_4','con_5']].head(20)"
   ]
  },
  {
   "cell_type": "markdown",
   "metadata": {},
   "source": [
    "## Convert Waterfront to binominal "
   ]
  },
  {
   "cell_type": "code",
   "execution_count": 21,
   "metadata": {},
   "outputs": [],
   "source": [
    "\n",
    "kcdata['waterfront'] = kcdata['waterfront'].astype('category')\n",
    "kcdata['waterfront'].cat.codes\n",
    "waterfront_dummy = pd.get_dummies(kcdata['waterfront'], prefix ='waterfront')\n"
   ]
  },
  {
   "cell_type": "markdown",
   "metadata": {},
   "source": [
    "## Create Bins for grade, bedrooms, bathrooms, years and floors\n",
    "\n",
    "Although grade, bedrooms, bathrooms and floors are numerical values, it is diffidult to justify a linear pattern between these variables and target here. For example, grade 2 may not mean it is twice better than grade 1, or worse. It might make sense to restructure data into bins so that they are treated as categorical variables."
   ]
  },
  {
   "cell_type": "markdown",
   "metadata": {},
   "source": [
    "#### GRADE"
   ]
  },
  {
   "cell_type": "code",
   "execution_count": 22,
   "metadata": {
    "scrolled": true
   },
   "outputs": [
    {
     "data": {
      "text/plain": [
       "<matplotlib.axes._subplots.AxesSubplot at 0x1c20c387f0>"
      ]
     },
     "execution_count": 22,
     "metadata": {},
     "output_type": "execute_result"
    },
    {
     "data": {
      "image/png": "[encoded data removed]",
      "text/plain": [
       "<Figure size 432x288 with 1 Axes>"
      ]
     },
     "metadata": {
      "needs_background": "light"
     },
     "output_type": "display_data"
    }
   ],
   "source": [
    "kcdata['grade'].describe()\n",
    "kcdata['grade'].hist()"
   ]
  },
  {
   "cell_type": "code",
   "execution_count": 23,
   "metadata": {},
   "outputs": [],
   "source": [
    "bins = [3,7,8,10,13]\n",
    "bins_grade = pd.cut(kcdata['grade'],bins)"
   ]
  },
  {
   "cell_type": "code",
   "execution_count": 24,
   "metadata": {},
   "outputs": [
    {
     "data": {
      "text/plain": [
       "<matplotlib.axes._subplots.AxesSubplot at 0x1c1f35f860>"
      ]
     },
     "execution_count": 24,
     "metadata": {},
     "output_type": "execute_result"
    },
    {
     "data": {
      "image/png": "[encoded data removed]",
      "text/plain": [
       "<Figure size 432x288 with 1 Axes>"
      ]
     },
     "metadata": {
      "needs_background": "light"
     },
     "output_type": "display_data"
    }
   ],
   "source": [
    "bins_grade.value_counts().plot(kind='bar')"
   ]
  },
  {
   "cell_type": "code",
   "execution_count": 25,
   "metadata": {},
   "outputs": [],
   "source": [
    "bins_grade = bins_grade.cat.as_unordered()\n",
    "grade_dummy = pd.get_dummies(bins_grade, prefix='grade')"
   ]
  },
  {
   "cell_type": "markdown",
   "metadata": {},
   "source": [
    "#### BEDROOMS"
   ]
  },
  {
   "cell_type": "code",
   "execution_count": 26,
   "metadata": {},
   "outputs": [
    {
     "data": {
      "text/plain": [
       "count    21597.000000\n",
       "mean         3.373200\n",
       "std          0.926299\n",
       "min          1.000000\n",
       "25%          3.000000\n",
       "50%          3.000000\n",
       "75%          4.000000\n",
       "max         33.000000\n",
       "Name: bedrooms, dtype: float64"
      ]
     },
     "execution_count": 26,
     "metadata": {},
     "output_type": "execute_result"
    }
   ],
   "source": [
    "kcdata['bedrooms'].describe()"
   ]
  },
  {
   "cell_type": "code",
   "execution_count": 27,
   "metadata": {
    "scrolled": true
   },
   "outputs": [
    {
     "data": {
      "text/plain": [
       "<matplotlib.axes._subplots.AxesSubplot at 0x1c20626dd8>"
      ]
     },
     "execution_count": 27,
     "metadata": {},
     "output_type": "execute_result"
    },
    {
     "data": {
      "image/png": "[encoded data removed]",
      "text/plain": [
       "<Figure size 432x288 with 1 Axes>"
      ]
     },
     "metadata": {
      "needs_background": "light"
     },
     "output_type": "display_data"
    }
   ],
   "source": [
    "kcdata['bedrooms'].value_counts().plot(kind='bar')"
   ]
  },
  {
   "cell_type": "markdown",
   "metadata": {},
   "source": [
    "There might be an outlier 33 in the bedroom variable. "
   ]
  },
  {
   "cell_type": "code",
   "execution_count": 28,
   "metadata": {},
   "outputs": [
    {
     "data": {
      "text/plain": [
       "15856    1040\n",
       "Name: sqft_above, dtype: int64"
      ]
     },
     "execution_count": 28,
     "metadata": {},
     "output_type": "execute_result"
    }
   ],
   "source": [
    "#The observation doesn't make sense, a house with 33 bedrooms only have 1040 sqft above the basement.\n",
    "kcdata[kcdata['bedrooms']==33].sqft_above"
   ]
  },
  {
   "cell_type": "code",
   "execution_count": 29,
   "metadata": {},
   "outputs": [
    {
     "data": {
      "image/png": "[encoded data removed]",
      "text/plain": [
       "<Figure size 432x288 with 1 Axes>"
      ]
     },
     "metadata": {
      "needs_background": "light"
     },
     "output_type": "display_data"
    }
   ],
   "source": [
    "#Remove the max value from bedrooms\n",
    "o = kcdata['bedrooms'].max()\n",
    "kcdata = kcdata[kcdata['bedrooms']< o]\n",
    "kcdata.plot(kind='scatter', x='bedrooms', y='price', alpha=0.3, color='b');\n"
   ]
  },
  {
   "cell_type": "code",
   "execution_count": 30,
   "metadata": {
    "scrolled": true
   },
   "outputs": [
    {
     "data": {
      "text/plain": [
       "count    21596.000000\n",
       "mean         3.371828\n",
       "std          0.904114\n",
       "min          1.000000\n",
       "25%          3.000000\n",
       "50%          3.000000\n",
       "75%          4.000000\n",
       "max         11.000000\n",
       "Name: bedrooms, dtype: float64"
      ]
     },
     "execution_count": 30,
     "metadata": {},
     "output_type": "execute_result"
    }
   ],
   "source": [
    "kcdata['bedrooms'].describe()"
   ]
  },
  {
   "cell_type": "code",
   "execution_count": 31,
   "metadata": {},
   "outputs": [],
   "source": [
    "bins = [1,2,3,4,11]\n",
    "bins_bedroom = pd.cut(kcdata['bedrooms'],bins)\n",
    "bins_bedroom = bins_bedroom.cat.as_unordered()\n",
    "bedroom_dummy = pd.get_dummies(bins_bedroom, prefix='bedroom')"
   ]
  },
  {
   "cell_type": "markdown",
   "metadata": {},
   "source": [
    "#### BATHROOMS"
   ]
  },
  {
   "cell_type": "code",
   "execution_count": 32,
   "metadata": {},
   "outputs": [
    {
     "data": {
      "text/plain": [
       "<matplotlib.axes._subplots.AxesSubplot at 0x1c1fb7ccc0>"
      ]
     },
     "execution_count": 32,
     "metadata": {},
     "output_type": "execute_result"
    },
    {
     "data": {
      "image/png": "[encoded data removed]",
      "text/plain": [
       "<Figure size 432x288 with 1 Axes>"
      ]
     },
     "metadata": {
      "needs_background": "light"
     },
     "output_type": "display_data"
    }
   ],
   "source": [
    "kcdata['bathrooms'].hist()\n",
    "#kcdata['bathrooms'].value_counts();"
   ]
  },
  {
   "cell_type": "markdown",
   "metadata": {},
   "source": [
    "The definition of 'bathrooms' is the number of bathrooms per bedrooms. Normally a residential building have 0.5-2 bathrooms per bedroom. So 3-8 bathrooms per bedroom may suggest there are different kinds of buildings. We can investigate the sqft_above and price to see if any outliers. "
   ]
  },
  {
   "cell_type": "code",
   "execution_count": 33,
   "metadata": {},
   "outputs": [
    {
     "data": {
      "text/plain": [
       "<matplotlib.axes._subplots.AxesSubplot at 0x1c1ed8ce80>"
      ]
     },
     "execution_count": 33,
     "metadata": {},
     "output_type": "execute_result"
    },
    {
     "data": {
      "image/png": "[encoded data removed]",
      "text/plain": [
       "<Figure size 432x288 with 1 Axes>"
      ]
     },
     "metadata": {
      "needs_background": "light"
     },
     "output_type": "display_data"
    },
    {
     "data": {
      "image/png": "[encoded data removed]",
      "text/plain": [
       "<Figure size 432x288 with 1 Axes>"
      ]
     },
     "metadata": {
      "needs_background": "light"
     },
     "output_type": "display_data"
    }
   ],
   "source": [
    "kcdata[kcdata['bathrooms']>=3].groupby('bathrooms').sqft_above.mean()\n",
    "b = kcdata[kcdata['bathrooms']>=3]\n",
    "b.plot(kind='scatter', x='bathrooms', y='sqft_above', alpha=0.3, color='b')\n",
    "b.plot(kind='scatter', x='bathrooms', y='price', alpha=0.3, color='g')\n"
   ]
  },
  {
   "cell_type": "code",
   "execution_count": 34,
   "metadata": {
    "scrolled": true
   },
   "outputs": [
    {
     "data": {
      "text/plain": [
       "<matplotlib.axes._subplots.AxesSubplot at 0x1c206100b8>"
      ]
     },
     "execution_count": 34,
     "metadata": {},
     "output_type": "execute_result"
    },
    {
     "data": {
      "image/png": "[encoded data removed]",
      "text/plain": [
       "<Figure size 432x288 with 1 Axes>"
      ]
     },
     "metadata": {
      "needs_background": "light"
     },
     "output_type": "display_data"
    },
    {
     "data": {
      "image/png": "[encoded data removed]",
      "text/plain": [
       "<Figure size 432x288 with 1 Axes>"
      ]
     },
     "metadata": {
      "needs_background": "light"
     },
     "output_type": "display_data"
    }
   ],
   "source": [
    "#Check bathrooms >5. \n",
    "kcdata[kcdata['bathrooms']>=5].groupby('bathrooms').sqft_above.mean()\n",
    "a = kcdata[kcdata['bathrooms']>= 5]\n",
    "a.plot(kind='scatter', x='bathrooms', y='sqft_above', alpha=0.3, color='b')\n",
    "a.plot(kind='scatter', x='bathrooms', y='price', alpha=0.3, color='g')\n"
   ]
  },
  {
   "cell_type": "markdown",
   "metadata": {},
   "source": [
    "We will create bins for bathrooms for now. "
   ]
  },
  {
   "cell_type": "code",
   "execution_count": 35,
   "metadata": {},
   "outputs": [],
   "source": [
    "bins = [0.5,1.5,2,2.5,5,8]\n",
    "bins_bathroom = pd.cut(kcdata['bathrooms'],bins)\n",
    "bins_bathroom = bins_bathroom.cat.as_unordered()\n",
    "bathroom_dummy = pd.get_dummies(bins_bathroom, prefix='bathroom')"
   ]
  },
  {
   "cell_type": "code",
   "execution_count": 36,
   "metadata": {},
   "outputs": [
    {
     "data": {
      "text/plain": [
       "<matplotlib.axes._subplots.AxesSubplot at 0x1c1ed6eb70>"
      ]
     },
     "execution_count": 36,
     "metadata": {},
     "output_type": "execute_result"
    },
    {
     "data": {
      "image/png": "[encoded data removed]",
      "text/plain": [
       "<Figure size 432x288 with 1 Axes>"
      ]
     },
     "metadata": {
      "needs_background": "light"
     },
     "output_type": "display_data"
    }
   ],
   "source": [
    "bins_bathroom.value_counts().plot(kind='bar')"
   ]
  },
  {
   "cell_type": "markdown",
   "metadata": {},
   "source": [
    "#### FLOORS"
   ]
  },
  {
   "cell_type": "code",
   "execution_count": 37,
   "metadata": {},
   "outputs": [
    {
     "data": {
      "text/plain": [
       "count    21596.000000\n",
       "mean         1.494119\n",
       "std          0.539685\n",
       "min          1.000000\n",
       "25%          1.000000\n",
       "50%          1.500000\n",
       "75%          2.000000\n",
       "max          3.500000\n",
       "Name: floors, dtype: float64"
      ]
     },
     "execution_count": 37,
     "metadata": {},
     "output_type": "execute_result"
    }
   ],
   "source": [
    "kcdata['floors'].describe()"
   ]
  },
  {
   "cell_type": "code",
   "execution_count": 38,
   "metadata": {},
   "outputs": [],
   "source": [
    "bins = [0,1,1.5,2,3.5]\n",
    "bins_floors = pd.cut(kcdata['floors'],bins)\n",
    "bins_floors = bins_floors.cat.as_unordered()\n",
    "floors_dummy = pd.get_dummies(bins_floors, prefix = 'floors')\n"
   ]
  },
  {
   "cell_type": "code",
   "execution_count": 39,
   "metadata": {
    "scrolled": true
   },
   "outputs": [
    {
     "data": {
      "text/plain": [
       "<matplotlib.axes._subplots.AxesSubplot at 0x1c1fc11eb8>"
      ]
     },
     "execution_count": 39,
     "metadata": {},
     "output_type": "execute_result"
    },
    {
     "data": {
      "image/png": "[encoded data removed]",
      "text/plain": [
       "<Figure size 432x288 with 1 Axes>"
      ]
     },
     "metadata": {
      "needs_background": "light"
     },
     "output_type": "display_data"
    }
   ],
   "source": [
    "bins_floors.value_counts().plot(kind='bar')"
   ]
  },
  {
   "cell_type": "markdown",
   "metadata": {},
   "source": [
    "#### Year Built"
   ]
  },
  {
   "cell_type": "code",
   "execution_count": 40,
   "metadata": {},
   "outputs": [
    {
     "data": {
      "text/plain": [
       "count    21596.000000\n",
       "mean      1971.000787\n",
       "std         29.375460\n",
       "min       1900.000000\n",
       "25%       1951.000000\n",
       "50%       1975.000000\n",
       "75%       1997.000000\n",
       "max       2015.000000\n",
       "Name: yr_built, dtype: float64"
      ]
     },
     "execution_count": 40,
     "metadata": {},
     "output_type": "execute_result"
    }
   ],
   "source": [
    "kcdata['yr_built'].describe()"
   ]
  },
  {
   "cell_type": "code",
   "execution_count": 41,
   "metadata": {
    "scrolled": true
   },
   "outputs": [
    {
     "data": {
      "text/plain": [
       "<matplotlib.axes._subplots.AxesSubplot at 0x1c1fd5f438>"
      ]
     },
     "execution_count": 41,
     "metadata": {},
     "output_type": "execute_result"
    },
    {
     "data": {
      "image/png": "[encoded data removed]",
      "text/plain": [
       "<Figure size 432x288 with 1 Axes>"
      ]
     },
     "metadata": {
      "needs_background": "light"
     },
     "output_type": "display_data"
    }
   ],
   "source": [
    "bins = [1900,1950,1975,1995,2015]\n",
    "bins_year = pd.cut(kcdata['yr_built'],bins)\n",
    "bins_year = bins_year.cat.as_unordered()\n",
    "bins_year.head()\n",
    "year_dummy=pd.get_dummies(bins_year, prefix='year')\n",
    "\n",
    "bins_year.value_counts().plot(kind='bar')"
   ]
  },
  {
   "cell_type": "code",
   "execution_count": 42,
   "metadata": {},
   "outputs": [
    {
     "data": {
      "image/png": "[encoded data removed]",
      "text/plain": [
       "<Figure size 1080x1080 with 30 Axes>"
      ]
     },
     "metadata": {
      "needs_background": "light"
     },
     "output_type": "display_data"
    }
   ],
   "source": [
    "kcdata.hist(figsize=[15,15]);"
   ]
  },
  {
   "cell_type": "code",
   "execution_count": null,
   "metadata": {},
   "outputs": [],
   "source": []
  },
  {
   "cell_type": "markdown",
   "metadata": {},
   "source": [
    "## Correlation Matrix"
   ]
  },
  {
   "cell_type": "code",
   "execution_count": 43,
   "metadata": {},
   "outputs": [
    {
     "data": {
      "image/png": "[encoded data removed]",
      "text/plain": [
       "<Figure size 864x648 with 2 Axes>"
      ]
     },
     "metadata": {},
     "output_type": "display_data"
    }
   ],
   "source": [
    "sns.set(context='paper', font='monospace')\n",
    "corrmat = kcdata.corr()\n",
    "\n",
    "\n",
    "f, ax = plt.subplots(figsize=(12,9))\n",
    "sns.heatmap(corrmat, vmax=0.8, square=True);"
   ]
  },
  {
   "cell_type": "markdown",
   "metadata": {},
   "source": [
    "Analyzing the heatmap, the variables that are highly correlated to price are:\n",
    "* sqft_living\n",
    "* sqft_above\n",
    "* grade\n",
    "\n",
    "Independent variables which are highly correlated with each other:\n",
    "\n",
    "* sqft_living with sqft_living15, bathroom, grade, sqft_above\n",
    "* grade with bathroom, sqft_above, sqft_living15, sqft_living"
   ]
  },
  {
   "cell_type": "markdown",
   "metadata": {},
   "source": [
    "## Check Multicolinearity "
   ]
  },
  {
   "cell_type": "code",
   "execution_count": 44,
   "metadata": {},
   "outputs": [],
   "source": [
    "## Check Multicolinearity \n",
    "\n",
    "kcdata_set = kcdata.iloc[:,3:-1]\n",
    "kcdata_set.head()\n",
    "kcdata_set.corr()\n",
    "abs(kcdata_set.corr()) > 0.75;"
   ]
  },
  {
   "cell_type": "markdown",
   "metadata": {},
   "source": [
    "The correlation matrix confirms the observation that sqft_living are highly correlated with bathrooms, grade, sqft_above, sqft_living15.\n",
    "\n",
    "Multicolinearity exists here.\n",
    "\n",
    "We will drop sqft_living15, sqft_lot15 because they are highly correlated with sqft_living and sqft_lot, and also zipcode, lat, long."
   ]
  },
  {
   "cell_type": "markdown",
   "metadata": {},
   "source": [
    "## Feature Scaling and Normalization"
   ]
  },
  {
   "cell_type": "code",
   "execution_count": 103,
   "metadata": {},
   "outputs": [],
   "source": [
    "#kcdata.info()\n",
    "\n",
    "kcdata_set = kcdata.drop(columns=['sqft_living15','sqft_lot15','zipcode','lat','long'],axis=1)"
   ]
  },
  {
   "cell_type": "code",
   "execution_count": 104,
   "metadata": {},
   "outputs": [
    {
     "data": {
      "text/html": [
       "<div>\n",
       "<style scoped>\n",
       "    .dataframe tbody tr th:only-of-type {\n",
       "        vertical-align: middle;\n",
       "    }\n",
       "\n",
       "    .dataframe tbody tr th {\n",
       "        vertical-align: top;\n",
       "    }\n",
       "\n",
       "    .dataframe thead th {\n",
       "        text-align: right;\n",
       "    }\n",
       "</style>\n",
       "<table border=\"1\" class=\"dataframe\">\n",
       "  <thead>\n",
       "    <tr style=\"text-align: right;\">\n",
       "      <th></th>\n",
       "      <th>id</th>\n",
       "      <th>date</th>\n",
       "      <th>price</th>\n",
       "      <th>bedrooms</th>\n",
       "      <th>bathrooms</th>\n",
       "      <th>sqft_living</th>\n",
       "      <th>sqft_lot</th>\n",
       "      <th>floors</th>\n",
       "      <th>waterfront</th>\n",
       "      <th>view</th>\n",
       "      <th>...</th>\n",
       "      <th>waterfront_0.0</th>\n",
       "      <th>waterfront_1.0</th>\n",
       "      <th>floors_(0.0, 1.0]</th>\n",
       "      <th>floors_(1.0, 1.5]</th>\n",
       "      <th>floors_(1.5, 2.0]</th>\n",
       "      <th>floors_(2.0, 3.5]</th>\n",
       "      <th>year_(1900, 1950]</th>\n",
       "      <th>year_(1950, 1975]</th>\n",
       "      <th>year_(1975, 1995]</th>\n",
       "      <th>year_(1995, 2015]</th>\n",
       "    </tr>\n",
       "  </thead>\n",
       "  <tbody>\n",
       "    <tr>\n",
       "      <th>0</th>\n",
       "      <td>7.129301e+09</td>\n",
       "      <td>2014-10-13</td>\n",
       "      <td>221900.0</td>\n",
       "      <td>3.0</td>\n",
       "      <td>1.00</td>\n",
       "      <td>1180.0</td>\n",
       "      <td>5650.0</td>\n",
       "      <td>1.0</td>\n",
       "      <td>0.0</td>\n",
       "      <td>0.0</td>\n",
       "      <td>...</td>\n",
       "      <td>1</td>\n",
       "      <td>0</td>\n",
       "      <td>1.0</td>\n",
       "      <td>0.0</td>\n",
       "      <td>0.0</td>\n",
       "      <td>0.0</td>\n",
       "      <td>0.0</td>\n",
       "      <td>1.0</td>\n",
       "      <td>0.0</td>\n",
       "      <td>0.0</td>\n",
       "    </tr>\n",
       "    <tr>\n",
       "      <th>1</th>\n",
       "      <td>6.414100e+09</td>\n",
       "      <td>2014-12-09</td>\n",
       "      <td>538000.0</td>\n",
       "      <td>3.0</td>\n",
       "      <td>2.25</td>\n",
       "      <td>2570.0</td>\n",
       "      <td>7242.0</td>\n",
       "      <td>2.0</td>\n",
       "      <td>0.0</td>\n",
       "      <td>0.0</td>\n",
       "      <td>...</td>\n",
       "      <td>1</td>\n",
       "      <td>0</td>\n",
       "      <td>0.0</td>\n",
       "      <td>0.0</td>\n",
       "      <td>1.0</td>\n",
       "      <td>0.0</td>\n",
       "      <td>0.0</td>\n",
       "      <td>1.0</td>\n",
       "      <td>0.0</td>\n",
       "      <td>0.0</td>\n",
       "    </tr>\n",
       "    <tr>\n",
       "      <th>2</th>\n",
       "      <td>5.631500e+09</td>\n",
       "      <td>2015-02-25</td>\n",
       "      <td>180000.0</td>\n",
       "      <td>2.0</td>\n",
       "      <td>1.00</td>\n",
       "      <td>770.0</td>\n",
       "      <td>10000.0</td>\n",
       "      <td>1.0</td>\n",
       "      <td>0.0</td>\n",
       "      <td>0.0</td>\n",
       "      <td>...</td>\n",
       "      <td>1</td>\n",
       "      <td>0</td>\n",
       "      <td>1.0</td>\n",
       "      <td>0.0</td>\n",
       "      <td>0.0</td>\n",
       "      <td>0.0</td>\n",
       "      <td>1.0</td>\n",
       "      <td>0.0</td>\n",
       "      <td>0.0</td>\n",
       "      <td>0.0</td>\n",
       "    </tr>\n",
       "    <tr>\n",
       "      <th>3</th>\n",
       "      <td>2.487201e+09</td>\n",
       "      <td>2014-12-09</td>\n",
       "      <td>604000.0</td>\n",
       "      <td>4.0</td>\n",
       "      <td>3.00</td>\n",
       "      <td>1960.0</td>\n",
       "      <td>5000.0</td>\n",
       "      <td>1.0</td>\n",
       "      <td>0.0</td>\n",
       "      <td>0.0</td>\n",
       "      <td>...</td>\n",
       "      <td>1</td>\n",
       "      <td>0</td>\n",
       "      <td>1.0</td>\n",
       "      <td>0.0</td>\n",
       "      <td>0.0</td>\n",
       "      <td>0.0</td>\n",
       "      <td>0.0</td>\n",
       "      <td>1.0</td>\n",
       "      <td>0.0</td>\n",
       "      <td>0.0</td>\n",
       "    </tr>\n",
       "    <tr>\n",
       "      <th>4</th>\n",
       "      <td>1.954401e+09</td>\n",
       "      <td>2015-02-18</td>\n",
       "      <td>510000.0</td>\n",
       "      <td>3.0</td>\n",
       "      <td>2.00</td>\n",
       "      <td>1680.0</td>\n",
       "      <td>8080.0</td>\n",
       "      <td>1.0</td>\n",
       "      <td>0.0</td>\n",
       "      <td>0.0</td>\n",
       "      <td>...</td>\n",
       "      <td>1</td>\n",
       "      <td>0</td>\n",
       "      <td>1.0</td>\n",
       "      <td>0.0</td>\n",
       "      <td>0.0</td>\n",
       "      <td>0.0</td>\n",
       "      <td>0.0</td>\n",
       "      <td>0.0</td>\n",
       "      <td>1.0</td>\n",
       "      <td>0.0</td>\n",
       "    </tr>\n",
       "  </tbody>\n",
       "</table>\n",
       "<p>5 rows × 48 columns</p>\n",
       "</div>"
      ],
      "text/plain": [
       "             id       date     price  bedrooms  bathrooms  sqft_living  \\\n",
       "0  7.129301e+09 2014-10-13  221900.0       3.0       1.00       1180.0   \n",
       "1  6.414100e+09 2014-12-09  538000.0       3.0       2.25       2570.0   \n",
       "2  5.631500e+09 2015-02-25  180000.0       2.0       1.00        770.0   \n",
       "3  2.487201e+09 2014-12-09  604000.0       4.0       3.00       1960.0   \n",
       "4  1.954401e+09 2015-02-18  510000.0       3.0       2.00       1680.0   \n",
       "\n",
       "   sqft_lot  floors waterfront  view        ...          waterfront_0.0  \\\n",
       "0    5650.0     1.0        0.0   0.0        ...                       1   \n",
       "1    7242.0     2.0        0.0   0.0        ...                       1   \n",
       "2   10000.0     1.0        0.0   0.0        ...                       1   \n",
       "3    5000.0     1.0        0.0   0.0        ...                       1   \n",
       "4    8080.0     1.0        0.0   0.0        ...                       1   \n",
       "\n",
       "   waterfront_1.0  floors_(0.0, 1.0]  floors_(1.0, 1.5]  floors_(1.5, 2.0]  \\\n",
       "0               0                1.0                0.0                0.0   \n",
       "1               0                0.0                0.0                1.0   \n",
       "2               0                1.0                0.0                0.0   \n",
       "3               0                1.0                0.0                0.0   \n",
       "4               0                1.0                0.0                0.0   \n",
       "\n",
       "   floors_(2.0, 3.5]  year_(1900, 1950]  year_(1950, 1975]  year_(1975, 1995]  \\\n",
       "0                0.0                0.0                1.0                0.0   \n",
       "1                0.0                0.0                1.0                0.0   \n",
       "2                0.0                1.0                0.0                0.0   \n",
       "3                0.0                0.0                1.0                0.0   \n",
       "4                0.0                0.0                0.0                1.0   \n",
       "\n",
       "   year_(1995, 2015]  \n",
       "0                0.0  \n",
       "1                0.0  \n",
       "2                0.0  \n",
       "3                0.0  \n",
       "4                0.0  \n",
       "\n",
       "[5 rows x 48 columns]"
      ]
     },
     "execution_count": 104,
     "metadata": {},
     "output_type": "execute_result"
    }
   ],
   "source": [
    "kcdata_set = pd.concat([kcdata_set,bedroom_dummy, bathroom_dummy, grade_dummy, waterfront_dummy, floors_dummy, year_dummy], axis=1)\n",
    "kcdata_set.head()"
   ]
  },
  {
   "cell_type": "code",
   "execution_count": 105,
   "metadata": {
    "scrolled": true
   },
   "outputs": [
    {
     "name": "stdout",
     "output_type": "stream",
     "text": [
      "<class 'pandas.core.frame.DataFrame'>\n",
      "Int64Index: 21597 entries, 0 to 21596\n",
      "Data columns (total 48 columns):\n",
      "id                     21596 non-null float64\n",
      "date                   21596 non-null datetime64[ns]\n",
      "price                  21596 non-null float64\n",
      "bedrooms               21596 non-null float64\n",
      "bathrooms              21596 non-null float64\n",
      "sqft_living            21596 non-null float64\n",
      "sqft_lot               21596 non-null float64\n",
      "floors                 21596 non-null float64\n",
      "waterfront             21596 non-null category\n",
      "view                   21596 non-null float64\n",
      "condition              21596 non-null float64\n",
      "grade                  21596 non-null float64\n",
      "sqft_above             21596 non-null float64\n",
      "sqft_basement          21596 non-null float64\n",
      "yr_built               21596 non-null float64\n",
      "view_0                 21596 non-null float64\n",
      "view_1                 21596 non-null float64\n",
      "view_2                 21596 non-null float64\n",
      "view_3                 21596 non-null float64\n",
      "view_4                 21596 non-null float64\n",
      "con_1                  21596 non-null float64\n",
      "con_2                  21596 non-null float64\n",
      "con_3                  21596 non-null float64\n",
      "con_4                  21596 non-null float64\n",
      "con_5                  21596 non-null float64\n",
      "bedroom_(1, 2]         21596 non-null float64\n",
      "bedroom_(2, 3]         21596 non-null float64\n",
      "bedroom_(3, 4]         21596 non-null float64\n",
      "bedroom_(4, 11]        21596 non-null float64\n",
      "bathroom_(0.5, 1.5]    21596 non-null float64\n",
      "bathroom_(1.5, 2.0]    21596 non-null float64\n",
      "bathroom_(2.0, 2.5]    21596 non-null float64\n",
      "bathroom_(2.5, 5.0]    21596 non-null float64\n",
      "bathroom_(5.0, 8.0]    21596 non-null float64\n",
      "grade_(3, 7]           21597 non-null uint8\n",
      "grade_(7, 8]           21597 non-null uint8\n",
      "grade_(8, 10]          21597 non-null uint8\n",
      "grade_(10, 13]         21597 non-null uint8\n",
      "waterfront_0.0         21597 non-null uint8\n",
      "waterfront_1.0         21597 non-null uint8\n",
      "floors_(0.0, 1.0]      21596 non-null float64\n",
      "floors_(1.0, 1.5]      21596 non-null float64\n",
      "floors_(1.5, 2.0]      21596 non-null float64\n",
      "floors_(2.0, 3.5]      21596 non-null float64\n",
      "year_(1900, 1950]      21596 non-null float64\n",
      "year_(1950, 1975]      21596 non-null float64\n",
      "year_(1975, 1995]      21596 non-null float64\n",
      "year_(1995, 2015]      21596 non-null float64\n",
      "dtypes: category(1), datetime64[ns](1), float64(40), uint8(6)\n",
      "memory usage: 7.1 MB\n"
     ]
    }
   ],
   "source": [
    "kcdata_set.info();"
   ]
  },
  {
   "cell_type": "markdown",
   "metadata": {},
   "source": [
    " \n",
    "Variables with lepto kurtosis: price, sqft_lot\n",
    "Variables with either positive or negative Skewness: sqft_above, sqft_living\n",
    "\n",
    "We will perform log transformation to variables with skewness and then do mean normalization. "
   ]
  },
  {
   "cell_type": "markdown",
   "metadata": {},
   "source": [
    "### Log Transformation on sqft_above and sqft_living"
   ]
  },
  {
   "cell_type": "code",
   "execution_count": 48,
   "metadata": {},
   "outputs": [],
   "source": [
    "kcdata_log = pd.DataFrame([])\n",
    "kcdata_log['sqft_above']=np.log(kcdata_set['sqft_above'])\n",
    "kcdata_log['sqft_living']=np.log(kcdata_set['sqft_living'])\n",
    "kcdata_log['price']=np.log(kcdata_set['price'])"
   ]
  },
  {
   "cell_type": "code",
   "execution_count": 50,
   "metadata": {},
   "outputs": [],
   "source": [
    "basement = kcdata_set['sqft_basement']\n",
    "lot = kcdata_set['sqft_lot']\n",
    "logabove = kcdata_log['sqft_above']\n",
    "logliving = kcdata_log['sqft_living']\n",
    "logprice = kcdata_log['price']\n",
    "\n",
    "\n",
    "scaled_basement= (basement - min(basement))/(max(basement) - min(basement))\n",
    "scaled_lot = (lot - min(lot))/(max(lot) - min(lot))\n",
    "scaled_above = (logabove - np.mean(logabove))/np.sqrt(np.var(logabove))\n",
    "scaled_living = (logliving - np.mean(logliving))/np.sqrt(np.var(logliving))\n",
    "scaled_price = (logprice - np.mean(logprice))/np.sqrt(np.var(logprice))\n",
    "\n",
    "\n",
    "kcdata_set['price']=scaled_price\n",
    "kcdata_set['sqft_living']=scaled_living\n",
    "kcdata_set['sqft_above']=scaled_above\n",
    "kcdata_set['sqft_lot']=scaled_lot\n",
    "kcdata_set['sqft_basement']=scaled_basement"
   ]
  },
  {
   "cell_type": "code",
   "execution_count": 102,
   "metadata": {
    "scrolled": true
   },
   "outputs": [
    {
     "data": {
      "image/png": "[encoded data removed]",
      "text/plain": [
       "<Figure size 1080x1080 with 42 Axes>"
      ]
     },
     "metadata": {},
     "output_type": "display_data"
    }
   ],
   "source": [
    "kcdata_set.hist(figsize=[15,15]);"
   ]
  },
  {
   "cell_type": "code",
   "execution_count": 130,
   "metadata": {},
   "outputs": [
    {
     "name": "stdout",
     "output_type": "stream",
     "text": [
      "<class 'pandas.core.frame.DataFrame'>\n",
      "Int64Index: 21596 entries, 0 to 21596\n",
      "Data columns (total 30 columns):\n",
      "id               21596 non-null int64\n",
      "date             21596 non-null datetime64[ns]\n",
      "price            21596 non-null float64\n",
      "bedrooms         21596 non-null int64\n",
      "bathrooms        21596 non-null float64\n",
      "sqft_living      21596 non-null int64\n",
      "sqft_lot         21596 non-null int64\n",
      "floors           21596 non-null float64\n",
      "waterfront       21596 non-null category\n",
      "view             21596 non-null int64\n",
      "condition        21596 non-null int64\n",
      "grade            21596 non-null int64\n",
      "sqft_above       21596 non-null int64\n",
      "sqft_basement    21596 non-null float64\n",
      "yr_built         21596 non-null int64\n",
      "zipcode          21596 non-null int64\n",
      "lat              21596 non-null float64\n",
      "long             21596 non-null float64\n",
      "sqft_living15    21596 non-null int64\n",
      "sqft_lot15       21596 non-null int64\n",
      "view_0           21596 non-null uint8\n",
      "view_1           21596 non-null uint8\n",
      "view_2           21596 non-null uint8\n",
      "view_3           21596 non-null uint8\n",
      "view_4           21596 non-null uint8\n",
      "con_1            21596 non-null uint8\n",
      "con_2            21596 non-null uint8\n",
      "con_3            21596 non-null uint8\n",
      "con_4            21596 non-null uint8\n",
      "con_5            21596 non-null uint8\n",
      "dtypes: category(1), datetime64[ns](1), float64(6), int64(12), uint8(10)\n",
      "memory usage: 4.1 MB\n"
     ]
    }
   ],
   "source": [
    "kcdata.info()"
   ]
  },
  {
   "cell_type": "markdown",
   "metadata": {},
   "source": [
    "There might be too many dummy variables. "
   ]
  },
  {
   "cell_type": "markdown",
   "metadata": {},
   "source": [
    "Resources: https://medium.com/vickdata/four-feature-types-and-how-to-transform-them-for-machine-learning-8693e1c24e80"
   ]
  },
  {
   "cell_type": "code",
   "execution_count": null,
   "metadata": {},
   "outputs": [],
   "source": []
  },
  {
   "cell_type": "code",
   "execution_count": 53,
   "metadata": {},
   "outputs": [
    {
     "data": {
      "image/png": "[encoded data removed]",
      "text/plain": [
       "<Figure size 1080x576 with 1 Axes>"
      ]
     },
     "metadata": {},
     "output_type": "display_data"
    }
   ],
   "source": [
    "#Value Counts \n",
    "#bathroomsNumber - of bathrooms/bedrooms\n",
    "\n",
    "%matplotlib inline\n",
    "import seaborn as sns\n",
    "import matplotlib.pyplot as plt\n",
    "bathroom_count = kcdata['bathrooms'].value_counts()\n",
    "sns.set(style=\"darkgrid\")\n",
    "plt.figure(figsize=(15,8))\n",
    "sns.barplot(bathroom_count.index, bathroom_count.values, alpha=0.9)\n",
    "\n",
    "plt.title('Frequency Distribution of Bathrooms')\n",
    "plt.ylabel('Number of Occurrences', fontsize=12)\n",
    "plt.xlabel('Number of Bathrooms/Bedrooms', fontsize=12)\n",
    "plt.show()"
   ]
  },
  {
   "cell_type": "code",
   "execution_count": null,
   "metadata": {},
   "outputs": [],
   "source": []
  },
  {
   "cell_type": "code",
   "execution_count": null,
   "metadata": {},
   "outputs": [],
   "source": []
  },
  {
   "cell_type": "code",
   "execution_count": null,
   "metadata": {},
   "outputs": [],
   "source": []
  },
  {
   "cell_type": "markdown",
   "metadata": {},
   "source": [
    "## Part III: Linear Regression"
   ]
  },
  {
   "cell_type": "markdown",
   "metadata": {},
   "source": [
    "### Simple Linear Regression on area variables"
   ]
  },
  {
   "cell_type": "code",
   "execution_count": 114,
   "metadata": {},
   "outputs": [],
   "source": [
    "import statsmodels.api as sms\n",
    "from statsmodels.formula.api import ols"
   ]
  },
  {
   "cell_type": "code",
   "execution_count": 115,
   "metadata": {},
   "outputs": [],
   "source": [
    "data_ols = kcdata_set.iloc[:,2:]\n",
    "data_ols.dropna(inplace=True)"
   ]
  },
  {
   "cell_type": "code",
   "execution_count": 169,
   "metadata": {},
   "outputs": [
    {
     "data": {
      "text/plain": [
       "Index(['price', 'bedrooms', 'bathrooms', 'sqft_living', 'sqft_lot', 'floors',\n",
       "       'waterfront', 'view', 'condition', 'grade', 'sqft_above',\n",
       "       'sqft_basement', 'yr_built', 'view_0', 'view_1', 'view_2', 'view_3',\n",
       "       'view_4', 'con_1', 'con_2', 'con_3', 'con_4', 'con_5', 'bedroom_(1, 2]',\n",
       "       'bedroom_(2, 3]', 'bedroom_(3, 4]', 'bedroom_(4, 11]',\n",
       "       'bathroom_(0.5, 1.5]', 'bathroom_(1.5, 2.0]', 'bathroom_(2.0, 2.5]',\n",
       "       'bathroom_(2.5, 5.0]', 'bathroom_(5.0, 8.0]', 'grade_(3, 7]',\n",
       "       'grade_(7, 8]', 'grade_(8, 10]', 'grade_(10, 13]', 'waterfront_0.0',\n",
       "       'waterfront_1.0', 'floors_(0.0, 1.0]', 'floors_(1.0, 1.5]',\n",
       "       'floors_(1.5, 2.0]', 'floors_(2.0, 3.5]', 'year_(1900, 1950]',\n",
       "       'year_(1950, 1975]', 'year_(1975, 1995]', 'year_(1995, 2015]'],\n",
       "      dtype='object')"
      ]
     },
     "execution_count": 169,
     "metadata": {},
     "output_type": "execute_result"
    }
   ],
   "source": [
    "data_ols.columns"
   ]
  },
  {
   "cell_type": "code",
   "execution_count": 116,
   "metadata": {},
   "outputs": [
    {
     "data": {
      "text/html": [
       "<table class=\"simpletable\">\n",
       "<caption>OLS Regression Results</caption>\n",
       "<tr>\n",
       "  <th>Dep. Variable:</th>          <td>price</td>      <th>  R-squared:         </th>  <td>   0.839</td>  \n",
       "</tr>\n",
       "<tr>\n",
       "  <th>Model:</th>                   <td>OLS</td>       <th>  Adj. R-squared:    </th>  <td>   0.839</td>  \n",
       "</tr>\n",
       "<tr>\n",
       "  <th>Method:</th>             <td>Least Squares</td>  <th>  F-statistic:       </th>  <td>1.124e+05</td> \n",
       "</tr>\n",
       "<tr>\n",
       "  <th>Date:</th>             <td>Mon, 13 May 2019</td> <th>  Prob (F-statistic):</th>   <td>  0.00</td>   \n",
       "</tr>\n",
       "<tr>\n",
       "  <th>Time:</th>                 <td>21:44:19</td>     <th>  Log-Likelihood:    </th> <td>-3.0010e+05</td>\n",
       "</tr>\n",
       "<tr>\n",
       "  <th>No. Observations:</th>      <td> 21596</td>      <th>  AIC:               </th>  <td>6.002e+05</td> \n",
       "</tr>\n",
       "<tr>\n",
       "  <th>Df Residuals:</th>          <td> 21595</td>      <th>  BIC:               </th>  <td>6.002e+05</td> \n",
       "</tr>\n",
       "<tr>\n",
       "  <th>Df Model:</th>              <td>     1</td>      <th>                     </th>      <td> </td>     \n",
       "</tr>\n",
       "<tr>\n",
       "  <th>Covariance Type:</th>      <td>nonrobust</td>    <th>                     </th>      <td> </td>     \n",
       "</tr>\n",
       "</table>\n",
       "<table class=\"simpletable\">\n",
       "<tr>\n",
       "       <td></td>          <th>coef</th>     <th>std err</th>      <th>t</th>      <th>P>|t|</th>  <th>[0.025</th>    <th>0.975]</th>  \n",
       "</tr>\n",
       "<tr>\n",
       "  <th>sqft_living</th> <td>  263.1616</td> <td>    0.785</td> <td>  335.309</td> <td> 0.000</td> <td>  261.623</td> <td>  264.700</td>\n",
       "</tr>\n",
       "</table>\n",
       "<table class=\"simpletable\">\n",
       "<tr>\n",
       "  <th>Omnibus:</th>       <td>16022.057</td> <th>  Durbin-Watson:     </th>  <td>   1.980</td> \n",
       "</tr>\n",
       "<tr>\n",
       "  <th>Prob(Omnibus):</th>  <td> 0.000</td>   <th>  Jarque-Bera (JB):  </th> <td>689078.297</td>\n",
       "</tr>\n",
       "<tr>\n",
       "  <th>Skew:</th>           <td> 3.128</td>   <th>  Prob(JB):          </th>  <td>    0.00</td> \n",
       "</tr>\n",
       "<tr>\n",
       "  <th>Kurtosis:</th>       <td>29.956</td>   <th>  Cond. No.          </th>  <td>    1.00</td> \n",
       "</tr>\n",
       "</table><br/><br/>Warnings:<br/>[1] Standard Errors assume that the covariance matrix of the errors is correctly specified."
      ],
      "text/plain": [
       "<class 'statsmodels.iolib.summary.Summary'>\n",
       "\"\"\"\n",
       "                            OLS Regression Results                            \n",
       "==============================================================================\n",
       "Dep. Variable:                  price   R-squared:                       0.839\n",
       "Model:                            OLS   Adj. R-squared:                  0.839\n",
       "Method:                 Least Squares   F-statistic:                 1.124e+05\n",
       "Date:                Mon, 13 May 2019   Prob (F-statistic):               0.00\n",
       "Time:                        21:44:19   Log-Likelihood:            -3.0010e+05\n",
       "No. Observations:               21596   AIC:                         6.002e+05\n",
       "Df Residuals:                   21595   BIC:                         6.002e+05\n",
       "Df Model:                           1                                         \n",
       "Covariance Type:            nonrobust                                         \n",
       "===============================================================================\n",
       "                  coef    std err          t      P>|t|      [0.025      0.975]\n",
       "-------------------------------------------------------------------------------\n",
       "sqft_living   263.1616      0.785    335.309      0.000     261.623     264.700\n",
       "==============================================================================\n",
       "Omnibus:                    16022.057   Durbin-Watson:                   1.980\n",
       "Prob(Omnibus):                  0.000   Jarque-Bera (JB):           689078.297\n",
       "Skew:                           3.128   Prob(JB):                         0.00\n",
       "Kurtosis:                      29.956   Cond. No.                         1.00\n",
       "==============================================================================\n",
       "\n",
       "Warnings:\n",
       "[1] Standard Errors assume that the covariance matrix of the errors is correctly specified.\n",
       "\"\"\""
      ]
     },
     "execution_count": 116,
     "metadata": {},
     "output_type": "execute_result"
    }
   ],
   "source": [
    "X = data_ols.sqft_living\n",
    "y = data_ols.price\n",
    "\n",
    "model = sms.OLS(y, X).fit()\n",
    "model.summary()"
   ]
  },
  {
   "cell_type": "markdown",
   "metadata": {},
   "source": [
    "The R-squared is very high which means the size of the living room variable can explain 83.9% of the variance of price already. "
   ]
  },
  {
   "cell_type": "code",
   "execution_count": 117,
   "metadata": {},
   "outputs": [
    {
     "data": {
      "text/html": [
       "<table class=\"simpletable\">\n",
       "<caption>OLS Regression Results</caption>\n",
       "<tr>\n",
       "  <th>Dep. Variable:</th>          <td>price</td>      <th>  R-squared:         </th>  <td>   0.362</td>  \n",
       "</tr>\n",
       "<tr>\n",
       "  <th>Model:</th>                   <td>OLS</td>       <th>  Adj. R-squared:    </th>  <td>   0.362</td>  \n",
       "</tr>\n",
       "<tr>\n",
       "  <th>Method:</th>             <td>Least Squares</td>  <th>  F-statistic:       </th>  <td>1.227e+04</td> \n",
       "</tr>\n",
       "<tr>\n",
       "  <th>Date:</th>             <td>Mon, 13 May 2019</td> <th>  Prob (F-statistic):</th>   <td>  0.00</td>   \n",
       "</tr>\n",
       "<tr>\n",
       "  <th>Time:</th>                 <td>21:46:19</td>     <th>  Log-Likelihood:    </th> <td>-3.1495e+05</td>\n",
       "</tr>\n",
       "<tr>\n",
       "  <th>No. Observations:</th>      <td> 21596</td>      <th>  AIC:               </th>  <td>6.299e+05</td> \n",
       "</tr>\n",
       "<tr>\n",
       "  <th>Df Residuals:</th>          <td> 21595</td>      <th>  BIC:               </th>  <td>6.299e+05</td> \n",
       "</tr>\n",
       "<tr>\n",
       "  <th>Df Model:</th>              <td>     1</td>      <th>                     </th>      <td> </td>     \n",
       "</tr>\n",
       "<tr>\n",
       "  <th>Covariance Type:</th>      <td>nonrobust</td>    <th>                     </th>      <td> </td>     \n",
       "</tr>\n",
       "</table>\n",
       "<table class=\"simpletable\">\n",
       "<tr>\n",
       "        <td></td>           <th>coef</th>     <th>std err</th>      <th>t</th>      <th>P>|t|</th>  <th>[0.025</th>    <th>0.975]</th>  \n",
       "</tr>\n",
       "<tr>\n",
       "  <th>sqft_basement</th> <td>  749.8078</td> <td>    6.770</td> <td>  110.758</td> <td> 0.000</td> <td>  736.538</td> <td>  763.077</td>\n",
       "</tr>\n",
       "</table>\n",
       "<table class=\"simpletable\">\n",
       "<tr>\n",
       "  <th>Omnibus:</th>       <td>7593.987</td> <th>  Durbin-Watson:     </th> <td>   1.188</td> \n",
       "</tr>\n",
       "<tr>\n",
       "  <th>Prob(Omnibus):</th>  <td> 0.000</td>  <th>  Jarque-Bera (JB):  </th> <td>96369.114</td>\n",
       "</tr>\n",
       "<tr>\n",
       "  <th>Skew:</th>           <td> 1.329</td>  <th>  Prob(JB):          </th> <td>    0.00</td> \n",
       "</tr>\n",
       "<tr>\n",
       "  <th>Kurtosis:</th>       <td>13.001</td>  <th>  Cond. No.          </th> <td>    1.00</td> \n",
       "</tr>\n",
       "</table><br/><br/>Warnings:<br/>[1] Standard Errors assume that the covariance matrix of the errors is correctly specified."
      ],
      "text/plain": [
       "<class 'statsmodels.iolib.summary.Summary'>\n",
       "\"\"\"\n",
       "                            OLS Regression Results                            \n",
       "==============================================================================\n",
       "Dep. Variable:                  price   R-squared:                       0.362\n",
       "Model:                            OLS   Adj. R-squared:                  0.362\n",
       "Method:                 Least Squares   F-statistic:                 1.227e+04\n",
       "Date:                Mon, 13 May 2019   Prob (F-statistic):               0.00\n",
       "Time:                        21:46:19   Log-Likelihood:            -3.1495e+05\n",
       "No. Observations:               21596   AIC:                         6.299e+05\n",
       "Df Residuals:                   21595   BIC:                         6.299e+05\n",
       "Df Model:                           1                                         \n",
       "Covariance Type:            nonrobust                                         \n",
       "=================================================================================\n",
       "                    coef    std err          t      P>|t|      [0.025      0.975]\n",
       "---------------------------------------------------------------------------------\n",
       "sqft_basement   749.8078      6.770    110.758      0.000     736.538     763.077\n",
       "==============================================================================\n",
       "Omnibus:                     7593.987   Durbin-Watson:                   1.188\n",
       "Prob(Omnibus):                  0.000   Jarque-Bera (JB):            96369.114\n",
       "Skew:                           1.329   Prob(JB):                         0.00\n",
       "Kurtosis:                      13.001   Cond. No.                         1.00\n",
       "==============================================================================\n",
       "\n",
       "Warnings:\n",
       "[1] Standard Errors assume that the covariance matrix of the errors is correctly specified.\n",
       "\"\"\""
      ]
     },
     "execution_count": 117,
     "metadata": {},
     "output_type": "execute_result"
    }
   ],
   "source": [
    "X = data_ols.sqft_basement\n",
    "y = data_ols.price\n",
    "\n",
    "model = sms.OLS(y, X).fit()\n",
    "model.summary()"
   ]
  },
  {
   "cell_type": "code",
   "execution_count": 118,
   "metadata": {},
   "outputs": [
    {
     "data": {
      "text/html": [
       "<table class=\"simpletable\">\n",
       "<caption>OLS Regression Results</caption>\n",
       "<tr>\n",
       "  <th>Dep. Variable:</th>          <td>price</td>      <th>  R-squared:         </th>  <td>   0.798</td>  \n",
       "</tr>\n",
       "<tr>\n",
       "  <th>Model:</th>                   <td>OLS</td>       <th>  Adj. R-squared:    </th>  <td>   0.798</td>  \n",
       "</tr>\n",
       "<tr>\n",
       "  <th>Method:</th>             <td>Least Squares</td>  <th>  F-statistic:       </th>  <td>8.544e+04</td> \n",
       "</tr>\n",
       "<tr>\n",
       "  <th>Date:</th>             <td>Mon, 13 May 2019</td> <th>  Prob (F-statistic):</th>   <td>  0.00</td>   \n",
       "</tr>\n",
       "<tr>\n",
       "  <th>Time:</th>                 <td>21:46:31</td>     <th>  Log-Likelihood:    </th> <td>-3.0253e+05</td>\n",
       "</tr>\n",
       "<tr>\n",
       "  <th>No. Observations:</th>      <td> 21596</td>      <th>  AIC:               </th>  <td>6.051e+05</td> \n",
       "</tr>\n",
       "<tr>\n",
       "  <th>Df Residuals:</th>          <td> 21595</td>      <th>  BIC:               </th>  <td>6.051e+05</td> \n",
       "</tr>\n",
       "<tr>\n",
       "  <th>Df Model:</th>              <td>     1</td>      <th>                     </th>      <td> </td>     \n",
       "</tr>\n",
       "<tr>\n",
       "  <th>Covariance Type:</th>      <td>nonrobust</td>    <th>                     </th>      <td> </td>     \n",
       "</tr>\n",
       "</table>\n",
       "<table class=\"simpletable\">\n",
       "<tr>\n",
       "       <td></td>         <th>coef</th>     <th>std err</th>      <th>t</th>      <th>P>|t|</th>  <th>[0.025</th>    <th>0.975]</th>  \n",
       "</tr>\n",
       "<tr>\n",
       "  <th>sqft_above</th> <td>  296.1810</td> <td>    1.013</td> <td>  292.299</td> <td> 0.000</td> <td>  294.195</td> <td>  298.167</td>\n",
       "</tr>\n",
       "</table>\n",
       "<table class=\"simpletable\">\n",
       "<tr>\n",
       "  <th>Omnibus:</th>       <td>15076.472</td> <th>  Durbin-Watson:     </th>  <td>   1.984</td> \n",
       "</tr>\n",
       "<tr>\n",
       "  <th>Prob(Omnibus):</th>  <td> 0.000</td>   <th>  Jarque-Bera (JB):  </th> <td>548702.683</td>\n",
       "</tr>\n",
       "<tr>\n",
       "  <th>Skew:</th>           <td> 2.903</td>   <th>  Prob(JB):          </th>  <td>    0.00</td> \n",
       "</tr>\n",
       "<tr>\n",
       "  <th>Kurtosis:</th>       <td>27.001</td>   <th>  Cond. No.          </th>  <td>    1.00</td> \n",
       "</tr>\n",
       "</table><br/><br/>Warnings:<br/>[1] Standard Errors assume that the covariance matrix of the errors is correctly specified."
      ],
      "text/plain": [
       "<class 'statsmodels.iolib.summary.Summary'>\n",
       "\"\"\"\n",
       "                            OLS Regression Results                            \n",
       "==============================================================================\n",
       "Dep. Variable:                  price   R-squared:                       0.798\n",
       "Model:                            OLS   Adj. R-squared:                  0.798\n",
       "Method:                 Least Squares   F-statistic:                 8.544e+04\n",
       "Date:                Mon, 13 May 2019   Prob (F-statistic):               0.00\n",
       "Time:                        21:46:31   Log-Likelihood:            -3.0253e+05\n",
       "No. Observations:               21596   AIC:                         6.051e+05\n",
       "Df Residuals:                   21595   BIC:                         6.051e+05\n",
       "Df Model:                           1                                         \n",
       "Covariance Type:            nonrobust                                         \n",
       "==============================================================================\n",
       "                 coef    std err          t      P>|t|      [0.025      0.975]\n",
       "------------------------------------------------------------------------------\n",
       "sqft_above   296.1810      1.013    292.299      0.000     294.195     298.167\n",
       "==============================================================================\n",
       "Omnibus:                    15076.472   Durbin-Watson:                   1.984\n",
       "Prob(Omnibus):                  0.000   Jarque-Bera (JB):           548702.683\n",
       "Skew:                           2.903   Prob(JB):                         0.00\n",
       "Kurtosis:                      27.001   Cond. No.                         1.00\n",
       "==============================================================================\n",
       "\n",
       "Warnings:\n",
       "[1] Standard Errors assume that the covariance matrix of the errors is correctly specified.\n",
       "\"\"\""
      ]
     },
     "execution_count": 118,
     "metadata": {},
     "output_type": "execute_result"
    }
   ],
   "source": [
    "X = data_ols.sqft_above\n",
    "y = data_ols.price\n",
    "\n",
    "model = sms.OLS(y, X).fit()\n",
    "model.summary()"
   ]
  },
  {
   "cell_type": "markdown",
   "metadata": {},
   "source": [
    "The square footage of house apart from basement seems to be significant to house price too. "
   ]
  },
  {
   "cell_type": "markdown",
   "metadata": {},
   "source": [
    "#### Let's try to put area related variables in a multiple regression model"
   ]
  },
  {
   "cell_type": "code",
   "execution_count": 175,
   "metadata": {},
   "outputs": [
    {
     "data": {
      "text/html": [
       "<table class=\"simpletable\">\n",
       "<caption>OLS Regression Results</caption>\n",
       "<tr>\n",
       "  <th>Dep. Variable:</th>          <td>price</td>      <th>  R-squared:         </th>  <td>   0.644</td>  \n",
       "</tr>\n",
       "<tr>\n",
       "  <th>Model:</th>                   <td>OLS</td>       <th>  Adj. R-squared:    </th>  <td>   0.644</td>  \n",
       "</tr>\n",
       "<tr>\n",
       "  <th>Method:</th>             <td>Least Squares</td>  <th>  F-statistic:       </th>  <td>   4891.</td>  \n",
       "</tr>\n",
       "<tr>\n",
       "  <th>Date:</th>             <td>Mon, 13 May 2019</td> <th>  Prob (F-statistic):</th>   <td>  0.00</td>   \n",
       "</tr>\n",
       "<tr>\n",
       "  <th>Time:</th>                 <td>23:28:28</td>     <th>  Log-Likelihood:    </th> <td>-2.9621e+05</td>\n",
       "</tr>\n",
       "<tr>\n",
       "  <th>No. Observations:</th>      <td> 21596</td>      <th>  AIC:               </th>  <td>5.924e+05</td> \n",
       "</tr>\n",
       "<tr>\n",
       "  <th>Df Residuals:</th>          <td> 21587</td>      <th>  BIC:               </th>  <td>5.925e+05</td> \n",
       "</tr>\n",
       "<tr>\n",
       "  <th>Df Model:</th>              <td>     8</td>      <th>                     </th>      <td> </td>     \n",
       "</tr>\n",
       "<tr>\n",
       "  <th>Covariance Type:</th>      <td>nonrobust</td>    <th>                     </th>      <td> </td>     \n",
       "</tr>\n",
       "</table>\n",
       "<table class=\"simpletable\">\n",
       "<tr>\n",
       "          <td></td>             <th>coef</th>     <th>std err</th>      <th>t</th>      <th>P>|t|</th>  <th>[0.025</th>    <th>0.975]</th>  \n",
       "</tr>\n",
       "<tr>\n",
       "  <th>Intercept</th>         <td> 7.036e+06</td> <td> 1.24e+05</td> <td>   56.901</td> <td> 0.000</td> <td> 6.79e+06</td> <td> 7.28e+06</td>\n",
       "</tr>\n",
       "<tr>\n",
       "  <th>waterfront[T.1.0]</th> <td> 7.514e+05</td> <td> 1.84e+04</td> <td>   40.823</td> <td> 0.000</td> <td> 7.15e+05</td> <td> 7.88e+05</td>\n",
       "</tr>\n",
       "<tr>\n",
       "  <th>sqft_above</th>        <td>  167.8139</td> <td>    3.481</td> <td>   48.205</td> <td> 0.000</td> <td>  160.990</td> <td>  174.638</td>\n",
       "</tr>\n",
       "<tr>\n",
       "  <th>sqft_basement</th>     <td>  187.5786</td> <td>    4.554</td> <td>   41.194</td> <td> 0.000</td> <td>  178.653</td> <td>  196.504</td>\n",
       "</tr>\n",
       "<tr>\n",
       "  <th>grade</th>             <td> 1.321e+05</td> <td> 2175.655</td> <td>   60.710</td> <td> 0.000</td> <td> 1.28e+05</td> <td> 1.36e+05</td>\n",
       "</tr>\n",
       "<tr>\n",
       "  <th>bedrooms</th>          <td>-4.366e+04</td> <td> 2124.327</td> <td>  -20.553</td> <td> 0.000</td> <td>-4.78e+04</td> <td>-3.95e+04</td>\n",
       "</tr>\n",
       "<tr>\n",
       "  <th>yr_built</th>          <td>-3992.5492</td> <td>   64.858</td> <td>  -61.558</td> <td> 0.000</td> <td>-4119.676</td> <td>-3865.423</td>\n",
       "</tr>\n",
       "<tr>\n",
       "  <th>floors</th>            <td> 2.382e+04</td> <td> 3737.141</td> <td>    6.374</td> <td> 0.000</td> <td> 1.65e+04</td> <td> 3.11e+04</td>\n",
       "</tr>\n",
       "<tr>\n",
       "  <th>bathrooms</th>         <td> 5.411e+04</td> <td> 3500.140</td> <td>   15.458</td> <td> 0.000</td> <td> 4.72e+04</td> <td>  6.1e+04</td>\n",
       "</tr>\n",
       "</table>\n",
       "<table class=\"simpletable\">\n",
       "<tr>\n",
       "  <th>Omnibus:</th>       <td>15815.597</td> <th>  Durbin-Watson:     </th>  <td>   1.977</td>  \n",
       "</tr>\n",
       "<tr>\n",
       "  <th>Prob(Omnibus):</th>  <td> 0.000</td>   <th>  Jarque-Bera (JB):  </th> <td>1009037.614</td>\n",
       "</tr>\n",
       "<tr>\n",
       "  <th>Skew:</th>           <td> 2.926</td>   <th>  Prob(JB):          </th>  <td>    0.00</td>  \n",
       "</tr>\n",
       "<tr>\n",
       "  <th>Kurtosis:</th>       <td>35.972</td>   <th>  Cond. No.          </th>  <td>2.27e+05</td>  \n",
       "</tr>\n",
       "</table><br/><br/>Warnings:<br/>[1] Standard Errors assume that the covariance matrix of the errors is correctly specified.<br/>[2] The condition number is large, 2.27e+05. This might indicate that there are<br/>strong multicollinearity or other numerical problems."
      ],
      "text/plain": [
       "<class 'statsmodels.iolib.summary.Summary'>\n",
       "\"\"\"\n",
       "                            OLS Regression Results                            \n",
       "==============================================================================\n",
       "Dep. Variable:                  price   R-squared:                       0.644\n",
       "Model:                            OLS   Adj. R-squared:                  0.644\n",
       "Method:                 Least Squares   F-statistic:                     4891.\n",
       "Date:                Mon, 13 May 2019   Prob (F-statistic):               0.00\n",
       "Time:                        23:28:28   Log-Likelihood:            -2.9621e+05\n",
       "No. Observations:               21596   AIC:                         5.924e+05\n",
       "Df Residuals:                   21587   BIC:                         5.925e+05\n",
       "Df Model:                           8                                         \n",
       "Covariance Type:            nonrobust                                         \n",
       "=====================================================================================\n",
       "                        coef    std err          t      P>|t|      [0.025      0.975]\n",
       "-------------------------------------------------------------------------------------\n",
       "Intercept          7.036e+06   1.24e+05     56.901      0.000    6.79e+06    7.28e+06\n",
       "waterfront[T.1.0]  7.514e+05   1.84e+04     40.823      0.000    7.15e+05    7.88e+05\n",
       "sqft_above          167.8139      3.481     48.205      0.000     160.990     174.638\n",
       "sqft_basement       187.5786      4.554     41.194      0.000     178.653     196.504\n",
       "grade              1.321e+05   2175.655     60.710      0.000    1.28e+05    1.36e+05\n",
       "bedrooms          -4.366e+04   2124.327    -20.553      0.000   -4.78e+04   -3.95e+04\n",
       "yr_built          -3992.5492     64.858    -61.558      0.000   -4119.676   -3865.423\n",
       "floors             2.382e+04   3737.141      6.374      0.000    1.65e+04    3.11e+04\n",
       "bathrooms          5.411e+04   3500.140     15.458      0.000    4.72e+04     6.1e+04\n",
       "==============================================================================\n",
       "Omnibus:                    15815.597   Durbin-Watson:                   1.977\n",
       "Prob(Omnibus):                  0.000   Jarque-Bera (JB):          1009037.614\n",
       "Skew:                           2.926   Prob(JB):                         0.00\n",
       "Kurtosis:                      35.972   Cond. No.                     2.27e+05\n",
       "==============================================================================\n",
       "\n",
       "Warnings:\n",
       "[1] Standard Errors assume that the covariance matrix of the errors is correctly specified.\n",
       "[2] The condition number is large, 2.27e+05. This might indicate that there are\n",
       "strong multicollinearity or other numerical problems.\n",
       "\"\"\""
      ]
     },
     "execution_count": 175,
     "metadata": {},
     "output_type": "execute_result"
    }
   ],
   "source": [
    "import statsmodels.formula.api as smf\n",
    "\n",
    "model = 'price ~ sqft_above + sqft_basement + grade + bedrooms + yr_built + floors + waterfront + bathrooms'\n",
    "smf.ols(formula=model, data=data_ols).fit().summary()"
   ]
  },
  {
   "cell_type": "markdown",
   "metadata": {},
   "source": [
    "Interesting! The model result is worse than simple linear model. There are strong multicollinearity which reduce model quality."
   ]
  },
  {
   "cell_type": "markdown",
   "metadata": {},
   "source": [
    "#### Let's put all variables into the model and let algorithm decide which variable to keep."
   ]
  },
  {
   "cell_type": "code",
   "execution_count": 58,
   "metadata": {},
   "outputs": [],
   "source": [
    "predictors = data_ols.drop('price', axis=1)\n",
    "X = predictors\n",
    "y = data_ols['price']"
   ]
  },
  {
   "cell_type": "code",
   "execution_count": 59,
   "metadata": {},
   "outputs": [
    {
     "data": {
      "text/html": [
       "<table class=\"simpletable\">\n",
       "<caption>OLS Regression Results</caption>\n",
       "<tr>\n",
       "  <th>Dep. Variable:</th>          <td>price</td>      <th>  R-squared:         </th> <td>   0.629</td> \n",
       "</tr>\n",
       "<tr>\n",
       "  <th>Model:</th>                   <td>OLS</td>       <th>  Adj. R-squared:    </th> <td>   0.629</td> \n",
       "</tr>\n",
       "<tr>\n",
       "  <th>Method:</th>             <td>Least Squares</td>  <th>  F-statistic:       </th> <td>   1110.</td> \n",
       "</tr>\n",
       "<tr>\n",
       "  <th>Date:</th>             <td>Mon, 13 May 2019</td> <th>  Prob (F-statistic):</th>  <td>  0.00</td>  \n",
       "</tr>\n",
       "<tr>\n",
       "  <th>Time:</th>                 <td>21:16:00</td>     <th>  Log-Likelihood:    </th> <td> -19923.</td> \n",
       "</tr>\n",
       "<tr>\n",
       "  <th>No. Observations:</th>      <td> 21596</td>      <th>  AIC:               </th> <td>3.991e+04</td>\n",
       "</tr>\n",
       "<tr>\n",
       "  <th>Df Residuals:</th>          <td> 21562</td>      <th>  BIC:               </th> <td>4.018e+04</td>\n",
       "</tr>\n",
       "<tr>\n",
       "  <th>Df Model:</th>              <td>    33</td>      <th>                     </th>     <td> </td>    \n",
       "</tr>\n",
       "<tr>\n",
       "  <th>Covariance Type:</th>      <td>nonrobust</td>    <th>                     </th>     <td> </td>    \n",
       "</tr>\n",
       "</table>\n",
       "<table class=\"simpletable\">\n",
       "<tr>\n",
       "           <td></td>              <th>coef</th>     <th>std err</th>      <th>t</th>      <th>P>|t|</th>  <th>[0.025</th>    <th>0.975]</th>  \n",
       "</tr>\n",
       "<tr>\n",
       "  <th>const</th>               <td> 3.623e+11</td> <td>  7.5e+11</td> <td>    0.483</td> <td> 0.629</td> <td>-1.11e+12</td> <td> 1.83e+12</td>\n",
       "</tr>\n",
       "<tr>\n",
       "  <th>sqft_living</th>         <td>    0.4384</td> <td>    0.023</td> <td>   18.961</td> <td> 0.000</td> <td>    0.393</td> <td>    0.484</td>\n",
       "</tr>\n",
       "<tr>\n",
       "  <th>sqft_lot</th>            <td>   -0.0808</td> <td>    0.171</td> <td>   -0.472</td> <td> 0.637</td> <td>   -0.416</td> <td>    0.254</td>\n",
       "</tr>\n",
       "<tr>\n",
       "  <th>sqft_above</th>          <td>   -0.0214</td> <td>    0.021</td> <td>   -1.020</td> <td> 0.308</td> <td>   -0.062</td> <td>    0.020</td>\n",
       "</tr>\n",
       "<tr>\n",
       "  <th>sqft_basement</th>       <td>    0.2658</td> <td>    0.125</td> <td>    2.123</td> <td> 0.034</td> <td>    0.020</td> <td>    0.511</td>\n",
       "</tr>\n",
       "<tr>\n",
       "  <th>view_0</th>              <td> 7.447e+10</td> <td> 1.54e+11</td> <td>    0.483</td> <td> 0.629</td> <td>-2.28e+11</td> <td> 3.77e+11</td>\n",
       "</tr>\n",
       "<tr>\n",
       "  <th>view_1</th>              <td> 7.447e+10</td> <td> 1.54e+11</td> <td>    0.483</td> <td> 0.629</td> <td>-2.28e+11</td> <td> 3.77e+11</td>\n",
       "</tr>\n",
       "<tr>\n",
       "  <th>view_2</th>              <td> 7.447e+10</td> <td> 1.54e+11</td> <td>    0.483</td> <td> 0.629</td> <td>-2.28e+11</td> <td> 3.77e+11</td>\n",
       "</tr>\n",
       "<tr>\n",
       "  <th>view_3</th>              <td> 7.447e+10</td> <td> 1.54e+11</td> <td>    0.483</td> <td> 0.629</td> <td>-2.28e+11</td> <td> 3.77e+11</td>\n",
       "</tr>\n",
       "<tr>\n",
       "  <th>view_4</th>              <td> 7.447e+10</td> <td> 1.54e+11</td> <td>    0.483</td> <td> 0.629</td> <td>-2.28e+11</td> <td> 3.77e+11</td>\n",
       "</tr>\n",
       "<tr>\n",
       "  <th>con_1</th>               <td> 2.326e+10</td> <td> 4.82e+10</td> <td>    0.483</td> <td> 0.629</td> <td>-7.12e+10</td> <td> 1.18e+11</td>\n",
       "</tr>\n",
       "<tr>\n",
       "  <th>con_2</th>               <td> 2.326e+10</td> <td> 4.82e+10</td> <td>    0.483</td> <td> 0.629</td> <td>-7.12e+10</td> <td> 1.18e+11</td>\n",
       "</tr>\n",
       "<tr>\n",
       "  <th>con_3</th>               <td> 2.326e+10</td> <td> 4.82e+10</td> <td>    0.483</td> <td> 0.629</td> <td>-7.12e+10</td> <td> 1.18e+11</td>\n",
       "</tr>\n",
       "<tr>\n",
       "  <th>con_4</th>               <td> 2.326e+10</td> <td> 4.82e+10</td> <td>    0.483</td> <td> 0.629</td> <td>-7.12e+10</td> <td> 1.18e+11</td>\n",
       "</tr>\n",
       "<tr>\n",
       "  <th>con_5</th>               <td> 2.326e+10</td> <td> 4.82e+10</td> <td>    0.483</td> <td> 0.629</td> <td>-7.12e+10</td> <td> 1.18e+11</td>\n",
       "</tr>\n",
       "<tr>\n",
       "  <th>bedroom_(1, 2]</th>      <td>    0.0505</td> <td>    0.046</td> <td>    1.105</td> <td> 0.269</td> <td>   -0.039</td> <td>    0.140</td>\n",
       "</tr>\n",
       "<tr>\n",
       "  <th>bedroom_(2, 3]</th>      <td>   -0.0921</td> <td>    0.046</td> <td>   -1.998</td> <td> 0.046</td> <td>   -0.182</td> <td>   -0.002</td>\n",
       "</tr>\n",
       "<tr>\n",
       "  <th>bedroom_(3, 4]</th>      <td>   -0.1808</td> <td>    0.048</td> <td>   -3.805</td> <td> 0.000</td> <td>   -0.274</td> <td>   -0.088</td>\n",
       "</tr>\n",
       "<tr>\n",
       "  <th>bedroom_(4, 11]</th>     <td>   -0.2023</td> <td>    0.050</td> <td>   -4.052</td> <td> 0.000</td> <td>   -0.300</td> <td>   -0.104</td>\n",
       "</tr>\n",
       "<tr>\n",
       "  <th>bathroom_(0.5, 1.5]</th> <td>    0.7918</td> <td>    0.305</td> <td>    2.596</td> <td> 0.009</td> <td>    0.194</td> <td>    1.390</td>\n",
       "</tr>\n",
       "<tr>\n",
       "  <th>bathroom_(1.5, 2.0]</th> <td>    0.9227</td> <td>    0.305</td> <td>    3.024</td> <td> 0.002</td> <td>    0.325</td> <td>    1.521</td>\n",
       "</tr>\n",
       "<tr>\n",
       "  <th>bathroom_(2.0, 2.5]</th> <td>    0.9106</td> <td>    0.305</td> <td>    2.983</td> <td> 0.003</td> <td>    0.312</td> <td>    1.509</td>\n",
       "</tr>\n",
       "<tr>\n",
       "  <th>bathroom_(2.5, 5.0]</th> <td>    1.0514</td> <td>    0.305</td> <td>    3.442</td> <td> 0.001</td> <td>    0.453</td> <td>    1.650</td>\n",
       "</tr>\n",
       "<tr>\n",
       "  <th>bathroom_(5.0, 8.0]</th> <td>    1.4059</td> <td>    0.321</td> <td>    4.381</td> <td> 0.000</td> <td>    0.777</td> <td>    2.035</td>\n",
       "</tr>\n",
       "<tr>\n",
       "  <th>grade_(3, 7]</th>        <td>   -0.0957</td> <td>    0.611</td> <td>   -0.157</td> <td> 0.876</td> <td>   -1.293</td> <td>    1.102</td>\n",
       "</tr>\n",
       "<tr>\n",
       "  <th>grade_(7, 8]</th>        <td>    0.3441</td> <td>    0.611</td> <td>    0.563</td> <td> 0.573</td> <td>   -0.854</td> <td>    1.542</td>\n",
       "</tr>\n",
       "<tr>\n",
       "  <th>grade_(8, 10]</th>       <td>    0.8607</td> <td>    0.611</td> <td>    1.408</td> <td> 0.159</td> <td>   -0.338</td> <td>    2.059</td>\n",
       "</tr>\n",
       "<tr>\n",
       "  <th>grade_(10, 13]</th>      <td>    1.5088</td> <td>    0.612</td> <td>    2.465</td> <td> 0.014</td> <td>    0.309</td> <td>    2.709</td>\n",
       "</tr>\n",
       "<tr>\n",
       "  <th>waterfront_0.0</th>      <td>-5.515e+11</td> <td> 1.14e+12</td> <td>   -0.483</td> <td> 0.629</td> <td>-2.79e+12</td> <td> 1.69e+12</td>\n",
       "</tr>\n",
       "<tr>\n",
       "  <th>waterfront_1.0</th>      <td>-5.515e+11</td> <td> 1.14e+12</td> <td>   -0.483</td> <td> 0.629</td> <td>-2.79e+12</td> <td> 1.69e+12</td>\n",
       "</tr>\n",
       "<tr>\n",
       "  <th>floors_(0.0, 1.0]</th>   <td> 9.141e+10</td> <td> 1.89e+11</td> <td>    0.483</td> <td> 0.629</td> <td> -2.8e+11</td> <td> 4.62e+11</td>\n",
       "</tr>\n",
       "<tr>\n",
       "  <th>floors_(1.0, 1.5]</th>   <td> 9.141e+10</td> <td> 1.89e+11</td> <td>    0.483</td> <td> 0.629</td> <td> -2.8e+11</td> <td> 4.62e+11</td>\n",
       "</tr>\n",
       "<tr>\n",
       "  <th>floors_(1.5, 2.0]</th>   <td> 9.141e+10</td> <td> 1.89e+11</td> <td>    0.483</td> <td> 0.629</td> <td> -2.8e+11</td> <td> 4.62e+11</td>\n",
       "</tr>\n",
       "<tr>\n",
       "  <th>floors_(2.0, 3.5]</th>   <td> 9.141e+10</td> <td> 1.89e+11</td> <td>    0.483</td> <td> 0.629</td> <td> -2.8e+11</td> <td> 4.62e+11</td>\n",
       "</tr>\n",
       "<tr>\n",
       "  <th>year_(1900, 1950]</th>   <td>   -0.1638</td> <td>    0.066</td> <td>   -2.482</td> <td> 0.013</td> <td>   -0.293</td> <td>   -0.034</td>\n",
       "</tr>\n",
       "<tr>\n",
       "  <th>year_(1950, 1975]</th>   <td>   -0.5251</td> <td>    0.066</td> <td>   -7.905</td> <td> 0.000</td> <td>   -0.655</td> <td>   -0.395</td>\n",
       "</tr>\n",
       "<tr>\n",
       "  <th>year_(1975, 1995]</th>   <td>   -0.7818</td> <td>    0.067</td> <td>  -11.723</td> <td> 0.000</td> <td>   -0.913</td> <td>   -0.651</td>\n",
       "</tr>\n",
       "<tr>\n",
       "  <th>year_(1995, 2015]</th>   <td>   -0.7481</td> <td>    0.067</td> <td>  -11.158</td> <td> 0.000</td> <td>   -0.879</td> <td>   -0.617</td>\n",
       "</tr>\n",
       "</table>\n",
       "<table class=\"simpletable\">\n",
       "<tr>\n",
       "  <th>Omnibus:</th>       <td>85.463</td> <th>  Durbin-Watson:     </th> <td>   1.970</td>\n",
       "</tr>\n",
       "<tr>\n",
       "  <th>Prob(Omnibus):</th> <td> 0.000</td> <th>  Jarque-Bera (JB):  </th> <td>  95.355</td>\n",
       "</tr>\n",
       "<tr>\n",
       "  <th>Skew:</th>          <td>-0.111</td> <th>  Prob(JB):          </th> <td>1.97e-21</td>\n",
       "</tr>\n",
       "<tr>\n",
       "  <th>Kurtosis:</th>      <td> 3.237</td> <th>  Cond. No.          </th> <td>1.13e+16</td>\n",
       "</tr>\n",
       "</table><br/><br/>Warnings:<br/>[1] Standard Errors assume that the covariance matrix of the errors is correctly specified.<br/>[2] The smallest eigenvalue is 8.47e-28. This might indicate that there are<br/>strong multicollinearity problems or that the design matrix is singular."
      ],
      "text/plain": [
       "<class 'statsmodels.iolib.summary.Summary'>\n",
       "\"\"\"\n",
       "                            OLS Regression Results                            \n",
       "==============================================================================\n",
       "Dep. Variable:                  price   R-squared:                       0.629\n",
       "Model:                            OLS   Adj. R-squared:                  0.629\n",
       "Method:                 Least Squares   F-statistic:                     1110.\n",
       "Date:                Mon, 13 May 2019   Prob (F-statistic):               0.00\n",
       "Time:                        21:16:00   Log-Likelihood:                -19923.\n",
       "No. Observations:               21596   AIC:                         3.991e+04\n",
       "Df Residuals:                   21562   BIC:                         4.018e+04\n",
       "Df Model:                          33                                         \n",
       "Covariance Type:            nonrobust                                         \n",
       "=======================================================================================\n",
       "                          coef    std err          t      P>|t|      [0.025      0.975]\n",
       "---------------------------------------------------------------------------------------\n",
       "const                3.623e+11    7.5e+11      0.483      0.629   -1.11e+12    1.83e+12\n",
       "sqft_living             0.4384      0.023     18.961      0.000       0.393       0.484\n",
       "sqft_lot               -0.0808      0.171     -0.472      0.637      -0.416       0.254\n",
       "sqft_above             -0.0214      0.021     -1.020      0.308      -0.062       0.020\n",
       "sqft_basement           0.2658      0.125      2.123      0.034       0.020       0.511\n",
       "view_0               7.447e+10   1.54e+11      0.483      0.629   -2.28e+11    3.77e+11\n",
       "view_1               7.447e+10   1.54e+11      0.483      0.629   -2.28e+11    3.77e+11\n",
       "view_2               7.447e+10   1.54e+11      0.483      0.629   -2.28e+11    3.77e+11\n",
       "view_3               7.447e+10   1.54e+11      0.483      0.629   -2.28e+11    3.77e+11\n",
       "view_4               7.447e+10   1.54e+11      0.483      0.629   -2.28e+11    3.77e+11\n",
       "con_1                2.326e+10   4.82e+10      0.483      0.629   -7.12e+10    1.18e+11\n",
       "con_2                2.326e+10   4.82e+10      0.483      0.629   -7.12e+10    1.18e+11\n",
       "con_3                2.326e+10   4.82e+10      0.483      0.629   -7.12e+10    1.18e+11\n",
       "con_4                2.326e+10   4.82e+10      0.483      0.629   -7.12e+10    1.18e+11\n",
       "con_5                2.326e+10   4.82e+10      0.483      0.629   -7.12e+10    1.18e+11\n",
       "bedroom_(1, 2]          0.0505      0.046      1.105      0.269      -0.039       0.140\n",
       "bedroom_(2, 3]         -0.0921      0.046     -1.998      0.046      -0.182      -0.002\n",
       "bedroom_(3, 4]         -0.1808      0.048     -3.805      0.000      -0.274      -0.088\n",
       "bedroom_(4, 11]        -0.2023      0.050     -4.052      0.000      -0.300      -0.104\n",
       "bathroom_(0.5, 1.5]     0.7918      0.305      2.596      0.009       0.194       1.390\n",
       "bathroom_(1.5, 2.0]     0.9227      0.305      3.024      0.002       0.325       1.521\n",
       "bathroom_(2.0, 2.5]     0.9106      0.305      2.983      0.003       0.312       1.509\n",
       "bathroom_(2.5, 5.0]     1.0514      0.305      3.442      0.001       0.453       1.650\n",
       "bathroom_(5.0, 8.0]     1.4059      0.321      4.381      0.000       0.777       2.035\n",
       "grade_(3, 7]           -0.0957      0.611     -0.157      0.876      -1.293       1.102\n",
       "grade_(7, 8]            0.3441      0.611      0.563      0.573      -0.854       1.542\n",
       "grade_(8, 10]           0.8607      0.611      1.408      0.159      -0.338       2.059\n",
       "grade_(10, 13]          1.5088      0.612      2.465      0.014       0.309       2.709\n",
       "waterfront_0.0      -5.515e+11   1.14e+12     -0.483      0.629   -2.79e+12    1.69e+12\n",
       "waterfront_1.0      -5.515e+11   1.14e+12     -0.483      0.629   -2.79e+12    1.69e+12\n",
       "floors_(0.0, 1.0]    9.141e+10   1.89e+11      0.483      0.629    -2.8e+11    4.62e+11\n",
       "floors_(1.0, 1.5]    9.141e+10   1.89e+11      0.483      0.629    -2.8e+11    4.62e+11\n",
       "floors_(1.5, 2.0]    9.141e+10   1.89e+11      0.483      0.629    -2.8e+11    4.62e+11\n",
       "floors_(2.0, 3.5]    9.141e+10   1.89e+11      0.483      0.629    -2.8e+11    4.62e+11\n",
       "year_(1900, 1950]      -0.1638      0.066     -2.482      0.013      -0.293      -0.034\n",
       "year_(1950, 1975]      -0.5251      0.066     -7.905      0.000      -0.655      -0.395\n",
       "year_(1975, 1995]      -0.7818      0.067    -11.723      0.000      -0.913      -0.651\n",
       "year_(1995, 2015]      -0.7481      0.067    -11.158      0.000      -0.879      -0.617\n",
       "==============================================================================\n",
       "Omnibus:                       85.463   Durbin-Watson:                   1.970\n",
       "Prob(Omnibus):                  0.000   Jarque-Bera (JB):               95.355\n",
       "Skew:                          -0.111   Prob(JB):                     1.97e-21\n",
       "Kurtosis:                       3.237   Cond. No.                     1.13e+16\n",
       "==============================================================================\n",
       "\n",
       "Warnings:\n",
       "[1] Standard Errors assume that the covariance matrix of the errors is correctly specified.\n",
       "[2] The smallest eigenvalue is 8.47e-28. This might indicate that there are\n",
       "strong multicollinearity problems or that the design matrix is singular.\n",
       "\"\"\""
      ]
     },
     "execution_count": 59,
     "metadata": {},
     "output_type": "execute_result"
    }
   ],
   "source": [
    "import statsmodels.api as sm\n",
    "#from statsmodels.formula.api import ols\n",
    "\n",
    "X_int = sm.add_constant(predictors)\n",
    "\n",
    "model = sm.OLS(y, X_int).fit()\n",
    "model.summary()"
   ]
  },
  {
   "cell_type": "code",
   "execution_count": null,
   "metadata": {},
   "outputs": [],
   "source": []
  },
  {
   "cell_type": "code",
   "execution_count": 60,
   "metadata": {},
   "outputs": [],
   "source": [
    "import statsmodels.api as sm\n",
    "\n",
    "def stepwise_selection(X, y, \n",
    "                       initial_list=[], \n",
    "                       threshold_in=0.01, \n",
    "                       threshold_out = 0.05, \n",
    "                       verbose=True):\n",
    "    \"\"\" Perform a forward-backward feature selection \n",
    "    based on p-value from statsmodels.api.OLS\n",
    "    Arguments:\n",
    "        X - pandas.DataFrame with candidate features\n",
    "        y - list-like with the target\n",
    "        initial_list - list of features to start with (column names of X)\n",
    "        threshold_in - include a feature if its p-value < threshold_in\n",
    "        threshold_out - exclude a feature if its p-value > threshold_out\n",
    "        verbose - whether to print the sequence of inclusions and exclusions\n",
    "    Returns: list of selected features \n",
    "    Always set threshold_in < threshold_out to avoid infinite looping.\n",
    "    See https://en.wikipedia.org/wiki/Stepwise_regression for the details\n",
    "    \"\"\"\n",
    "    included = list(initial_list)\n",
    "    while True:\n",
    "        changed=False\n",
    "        # forward step\n",
    "        excluded = list(set(X.columns)-set(included))\n",
    "        new_pval = pd.Series(index=excluded)\n",
    "        for new_column in excluded:\n",
    "            model = sm.OLS(y, sm.add_constant(pd.DataFrame(X[included+[new_column]]))).fit()\n",
    "            new_pval[new_column] = model.pvalues[new_column]\n",
    "        best_pval = new_pval.min()\n",
    "        if best_pval < threshold_in:\n",
    "            best_feature = new_pval.idxmin()\n",
    "            included.append(best_feature)\n",
    "            changed=True\n",
    "            if verbose:\n",
    "                print('Add  {:30} with p-value {:.6}'.format(best_feature, best_pval))\n",
    "\n",
    "        # backward step\n",
    "        model = sm.OLS(y, sm.add_constant(pd.DataFrame(X[included]))).fit()\n",
    "        # use all coefs except intercept\n",
    "        pvalues = model.pvalues.iloc[1:]\n",
    "        worst_pval = pvalues.max() # null if pvalues is empty\n",
    "        if worst_pval > threshold_out:\n",
    "            changed=True\n",
    "            worst_feature = pvalues.argmax()\n",
    "            included.remove(worst_feature)\n",
    "            if verbose:\n",
    "                print('Drop {:30} with p-value {:.6}'.format(worst_feature, worst_pval))\n",
    "        if not changed:\n",
    "            break\n",
    "    return included"
   ]
  },
  {
   "cell_type": "code",
   "execution_count": 123,
   "metadata": {},
   "outputs": [],
   "source": [
    "X = predictors\n",
    "y = data_ols['price']"
   ]
  },
  {
   "cell_type": "code",
   "execution_count": 124,
   "metadata": {
    "scrolled": false
   },
   "outputs": [
    {
     "name": "stdout",
     "output_type": "stream",
     "text": [
      "Add  grade_(3, 7]                   with p-value 0.0\n",
      "Add  sqft_above                     with p-value 0.0\n",
      "Add  grade_(10, 13]                 with p-value 0.0\n",
      "Add  waterfront_0.0                 with p-value 0.0\n",
      "Add  grade_(8, 10]                  with p-value 0.0\n",
      "Add  sqft_basement                  with p-value 0.0\n",
      "Add  year_(1900, 1950]              with p-value 0.0\n",
      "Add  waterfront_1.0                 with p-value 0.0\n",
      "Add  bathroom_(5.0, 8.0]            with p-value 9.07081e-120\n",
      "Add  view_0                         with p-value 4.58738e-94\n",
      "Add  year_(1950, 1975]              with p-value 3.58784e-70\n",
      "Add  floors_(2.0, 3.5]              with p-value 2.02309e-51\n",
      "Add  bathroom_(2.5, 5.0]            with p-value 4.26912e-38\n",
      "Add  view_4                         with p-value 5.0174e-35\n",
      "Add  con_5                          with p-value 2.97227e-21\n",
      "Add  bedroom_(3, 4]                 with p-value 1.68518e-16\n",
      "Add  bedroom_(1, 2]                 with p-value 2.67061e-10\n",
      "Add  con_4                          with p-value 1.35385e-09\n",
      "Add  sqft_lot                       with p-value 6.86903e-10\n",
      "Add  view_2                         with p-value 2.37192e-07\n",
      "Drop waterfront_0.0                 with p-value 0.42612\n"
     ]
    },
    {
     "name": "stderr",
     "output_type": "stream",
     "text": [
      "/Applications/anaconda3/lib/python3.7/site-packages/ipykernel_launcher.py:45: FutureWarning: 'argmax' is deprecated, use 'idxmax' instead. The behavior of 'argmax'\n",
      "will be corrected to return the positional maximum in the future.\n",
      "Use 'series.values.argmax' to get the position of the maximum now.\n"
     ]
    },
    {
     "name": "stdout",
     "output_type": "stream",
     "text": [
      "Add  sqft_living                    with p-value 4.63616e-05\n",
      "Add  bedroom_(4, 11]                with p-value 0.00016167\n",
      "Add  floors_(1.5, 2.0]              with p-value 0.000140696\n",
      "Add  bathroom_(1.5, 2.0]            with p-value 0.000255949\n",
      "Add  con_3                          with p-value 0.00653879\n",
      "['grade_(3, 7]', 'sqft_above', 'grade_(10, 13]', 'grade_(8, 10]', 'sqft_basement', 'year_(1900, 1950]', 'waterfront_1.0', 'bathroom_(5.0, 8.0]', 'view_0', 'year_(1950, 1975]', 'floors_(2.0, 3.5]', 'bathroom_(2.5, 5.0]', 'view_4', 'con_5', 'bedroom_(3, 4]', 'bedroom_(1, 2]', 'con_4', 'sqft_lot', 'view_2', 'sqft_living', 'bedroom_(4, 11]', 'floors_(1.5, 2.0]', 'bathroom_(1.5, 2.0]', 'con_3']\n"
     ]
    }
   ],
   "source": [
    "result = stepwise_selection(X, y, verbose = True)\n",
    "print(result)"
   ]
  },
  {
   "cell_type": "code",
   "execution_count": 69,
   "metadata": {},
   "outputs": [],
   "source": [
    "predictors[result];"
   ]
  },
  {
   "cell_type": "code",
   "execution_count": 70,
   "metadata": {},
   "outputs": [
    {
     "data": {
      "text/html": [
       "<table class=\"simpletable\">\n",
       "<caption>OLS Regression Results</caption>\n",
       "<tr>\n",
       "  <th>Dep. Variable:</th>          <td>price</td>      <th>  R-squared:         </th> <td>   0.629</td> \n",
       "</tr>\n",
       "<tr>\n",
       "  <th>Model:</th>                   <td>OLS</td>       <th>  Adj. R-squared:    </th> <td>   0.629</td> \n",
       "</tr>\n",
       "<tr>\n",
       "  <th>Method:</th>             <td>Least Squares</td>  <th>  F-statistic:       </th> <td>   1590.</td> \n",
       "</tr>\n",
       "<tr>\n",
       "  <th>Date:</th>             <td>Mon, 13 May 2019</td> <th>  Prob (F-statistic):</th>  <td>  0.00</td>  \n",
       "</tr>\n",
       "<tr>\n",
       "  <th>Time:</th>                 <td>21:21:36</td>     <th>  Log-Likelihood:    </th> <td> -19938.</td> \n",
       "</tr>\n",
       "<tr>\n",
       "  <th>No. Observations:</th>      <td> 21596</td>      <th>  AIC:               </th> <td>3.992e+04</td>\n",
       "</tr>\n",
       "<tr>\n",
       "  <th>Df Residuals:</th>          <td> 21572</td>      <th>  BIC:               </th> <td>4.012e+04</td>\n",
       "</tr>\n",
       "<tr>\n",
       "  <th>Df Model:</th>              <td>    23</td>      <th>                     </th>     <td> </td>    \n",
       "</tr>\n",
       "<tr>\n",
       "  <th>Covariance Type:</th>      <td>nonrobust</td>    <th>                     </th>     <td> </td>    \n",
       "</tr>\n",
       "</table>\n",
       "<table class=\"simpletable\">\n",
       "<tr>\n",
       "           <td></td>              <th>coef</th>     <th>std err</th>      <th>t</th>      <th>P>|t|</th>  <th>[0.025</th>    <th>0.975]</th>  \n",
       "</tr>\n",
       "<tr>\n",
       "  <th>const</th>               <td>    1.5868</td> <td>    0.102</td> <td>   15.590</td> <td> 0.000</td> <td>    1.387</td> <td>    1.786</td>\n",
       "</tr>\n",
       "<tr>\n",
       "  <th>grade_(3, 7]</th>        <td>   -0.9568</td> <td>    0.016</td> <td>  -59.205</td> <td> 0.000</td> <td>   -0.988</td> <td>   -0.925</td>\n",
       "</tr>\n",
       "<tr>\n",
       "  <th>sqft_basement</th>       <td>    0.3889</td> <td>    0.062</td> <td>    6.314</td> <td> 0.000</td> <td>    0.268</td> <td>    0.510</td>\n",
       "</tr>\n",
       "<tr>\n",
       "  <th>year_(1900, 1950]</th>   <td>   -0.1640</td> <td>    0.066</td> <td>   -2.484</td> <td> 0.013</td> <td>   -0.293</td> <td>   -0.035</td>\n",
       "</tr>\n",
       "<tr>\n",
       "  <th>grade_(7, 8]</th>        <td>   -0.5173</td> <td>    0.014</td> <td>  -36.677</td> <td> 0.000</td> <td>   -0.545</td> <td>   -0.490</td>\n",
       "</tr>\n",
       "<tr>\n",
       "  <th>view_0</th>              <td>   -0.2842</td> <td>    0.022</td> <td>  -12.720</td> <td> 0.000</td> <td>   -0.328</td> <td>   -0.240</td>\n",
       "</tr>\n",
       "<tr>\n",
       "  <th>grade_(10, 13]</th>      <td>    0.6503</td> <td>    0.031</td> <td>   21.146</td> <td> 0.000</td> <td>    0.590</td> <td>    0.711</td>\n",
       "</tr>\n",
       "<tr>\n",
       "  <th>sqft_living</th>         <td>    0.4057</td> <td>    0.009</td> <td>   46.600</td> <td> 0.000</td> <td>    0.389</td> <td>    0.423</td>\n",
       "</tr>\n",
       "<tr>\n",
       "  <th>year_(1975, 1995]</th>   <td>   -0.7935</td> <td>    0.066</td> <td>  -11.967</td> <td> 0.000</td> <td>   -0.923</td> <td>   -0.664</td>\n",
       "</tr>\n",
       "<tr>\n",
       "  <th>floors_(2.0, 3.5]</th>   <td>    0.2861</td> <td>    0.024</td> <td>   12.144</td> <td> 0.000</td> <td>    0.240</td> <td>    0.332</td>\n",
       "</tr>\n",
       "<tr>\n",
       "  <th>year_(1995, 2015]</th>   <td>   -0.7618</td> <td>    0.066</td> <td>  -11.463</td> <td> 0.000</td> <td>   -0.892</td> <td>   -0.632</td>\n",
       "</tr>\n",
       "<tr>\n",
       "  <th>con_5</th>               <td>    0.5765</td> <td>    0.046</td> <td>   12.533</td> <td> 0.000</td> <td>    0.486</td> <td>    0.667</td>\n",
       "</tr>\n",
       "<tr>\n",
       "  <th>bathroom_(2.5, 5.0]</th> <td>    0.1334</td> <td>    0.013</td> <td>   10.198</td> <td> 0.000</td> <td>    0.108</td> <td>    0.159</td>\n",
       "</tr>\n",
       "<tr>\n",
       "  <th>year_(1950, 1975]</th>   <td>   -0.5362</td> <td>    0.066</td> <td>   -8.090</td> <td> 0.000</td> <td>   -0.666</td> <td>   -0.406</td>\n",
       "</tr>\n",
       "<tr>\n",
       "  <th>bedroom_(1, 2]</th>      <td>    0.2129</td> <td>    0.017</td> <td>   12.600</td> <td> 0.000</td> <td>    0.180</td> <td>    0.246</td>\n",
       "</tr>\n",
       "<tr>\n",
       "  <th>bathroom_(0.5, 1.5]</th> <td>   -0.1259</td> <td>    0.013</td> <td>   -9.400</td> <td> 0.000</td> <td>   -0.152</td> <td>   -0.100</td>\n",
       "</tr>\n",
       "<tr>\n",
       "  <th>bedroom_(2, 3]</th>      <td>    0.0831</td> <td>    0.010</td> <td>    8.146</td> <td> 0.000</td> <td>    0.063</td> <td>    0.103</td>\n",
       "</tr>\n",
       "<tr>\n",
       "  <th>floors_(0.0, 1.0]</th>   <td>   -0.0926</td> <td>    0.012</td> <td>   -7.625</td> <td> 0.000</td> <td>   -0.116</td> <td>   -0.069</td>\n",
       "</tr>\n",
       "<tr>\n",
       "  <th>view_4</th>              <td>    0.2426</td> <td>    0.046</td> <td>    5.235</td> <td> 0.000</td> <td>    0.152</td> <td>    0.333</td>\n",
       "</tr>\n",
       "<tr>\n",
       "  <th>con_4</th>               <td>    0.4664</td> <td>    0.044</td> <td>   10.549</td> <td> 0.000</td> <td>    0.380</td> <td>    0.553</td>\n",
       "</tr>\n",
       "<tr>\n",
       "  <th>waterfront_0.0</th>      <td>   -0.6135</td> <td>    0.062</td> <td>   -9.949</td> <td> 0.000</td> <td>   -0.734</td> <td>   -0.493</td>\n",
       "</tr>\n",
       "<tr>\n",
       "  <th>bathroom_(5.0, 8.0]</th> <td>    0.4727</td> <td>    0.097</td> <td>    4.880</td> <td> 0.000</td> <td>    0.283</td> <td>    0.663</td>\n",
       "</tr>\n",
       "<tr>\n",
       "  <th>con_3</th>               <td>    0.4023</td> <td>    0.044</td> <td>    9.152</td> <td> 0.000</td> <td>    0.316</td> <td>    0.488</td>\n",
       "</tr>\n",
       "<tr>\n",
       "  <th>view_2</th>              <td>   -0.0956</td> <td>    0.029</td> <td>   -3.309</td> <td> 0.001</td> <td>   -0.152</td> <td>   -0.039</td>\n",
       "</tr>\n",
       "</table>\n",
       "<table class=\"simpletable\">\n",
       "<tr>\n",
       "  <th>Omnibus:</th>       <td>84.194</td> <th>  Durbin-Watson:     </th> <td>   1.969</td>\n",
       "</tr>\n",
       "<tr>\n",
       "  <th>Prob(Omnibus):</th> <td> 0.000</td> <th>  Jarque-Bera (JB):  </th> <td>  94.082</td>\n",
       "</tr>\n",
       "<tr>\n",
       "  <th>Skew:</th>          <td>-0.110</td> <th>  Prob(JB):          </th> <td>3.72e-21</td>\n",
       "</tr>\n",
       "<tr>\n",
       "  <th>Kurtosis:</th>      <td> 3.237</td> <th>  Cond. No.          </th> <td>    78.8</td>\n",
       "</tr>\n",
       "</table><br/><br/>Warnings:<br/>[1] Standard Errors assume that the covariance matrix of the errors is correctly specified."
      ],
      "text/plain": [
       "<class 'statsmodels.iolib.summary.Summary'>\n",
       "\"\"\"\n",
       "                            OLS Regression Results                            \n",
       "==============================================================================\n",
       "Dep. Variable:                  price   R-squared:                       0.629\n",
       "Model:                            OLS   Adj. R-squared:                  0.629\n",
       "Method:                 Least Squares   F-statistic:                     1590.\n",
       "Date:                Mon, 13 May 2019   Prob (F-statistic):               0.00\n",
       "Time:                        21:21:36   Log-Likelihood:                -19938.\n",
       "No. Observations:               21596   AIC:                         3.992e+04\n",
       "Df Residuals:                   21572   BIC:                         4.012e+04\n",
       "Df Model:                          23                                         \n",
       "Covariance Type:            nonrobust                                         \n",
       "=======================================================================================\n",
       "                          coef    std err          t      P>|t|      [0.025      0.975]\n",
       "---------------------------------------------------------------------------------------\n",
       "const                   1.5868      0.102     15.590      0.000       1.387       1.786\n",
       "grade_(3, 7]           -0.9568      0.016    -59.205      0.000      -0.988      -0.925\n",
       "sqft_basement           0.3889      0.062      6.314      0.000       0.268       0.510\n",
       "year_(1900, 1950]      -0.1640      0.066     -2.484      0.013      -0.293      -0.035\n",
       "grade_(7, 8]           -0.5173      0.014    -36.677      0.000      -0.545      -0.490\n",
       "view_0                 -0.2842      0.022    -12.720      0.000      -0.328      -0.240\n",
       "grade_(10, 13]          0.6503      0.031     21.146      0.000       0.590       0.711\n",
       "sqft_living             0.4057      0.009     46.600      0.000       0.389       0.423\n",
       "year_(1975, 1995]      -0.7935      0.066    -11.967      0.000      -0.923      -0.664\n",
       "floors_(2.0, 3.5]       0.2861      0.024     12.144      0.000       0.240       0.332\n",
       "year_(1995, 2015]      -0.7618      0.066    -11.463      0.000      -0.892      -0.632\n",
       "con_5                   0.5765      0.046     12.533      0.000       0.486       0.667\n",
       "bathroom_(2.5, 5.0]     0.1334      0.013     10.198      0.000       0.108       0.159\n",
       "year_(1950, 1975]      -0.5362      0.066     -8.090      0.000      -0.666      -0.406\n",
       "bedroom_(1, 2]          0.2129      0.017     12.600      0.000       0.180       0.246\n",
       "bathroom_(0.5, 1.5]    -0.1259      0.013     -9.400      0.000      -0.152      -0.100\n",
       "bedroom_(2, 3]          0.0831      0.010      8.146      0.000       0.063       0.103\n",
       "floors_(0.0, 1.0]      -0.0926      0.012     -7.625      0.000      -0.116      -0.069\n",
       "view_4                  0.2426      0.046      5.235      0.000       0.152       0.333\n",
       "con_4                   0.4664      0.044     10.549      0.000       0.380       0.553\n",
       "waterfront_0.0         -0.6135      0.062     -9.949      0.000      -0.734      -0.493\n",
       "bathroom_(5.0, 8.0]     0.4727      0.097      4.880      0.000       0.283       0.663\n",
       "con_3                   0.4023      0.044      9.152      0.000       0.316       0.488\n",
       "view_2                 -0.0956      0.029     -3.309      0.001      -0.152      -0.039\n",
       "==============================================================================\n",
       "Omnibus:                       84.194   Durbin-Watson:                   1.969\n",
       "Prob(Omnibus):                  0.000   Jarque-Bera (JB):               94.082\n",
       "Skew:                          -0.110   Prob(JB):                     3.72e-21\n",
       "Kurtosis:                       3.237   Cond. No.                         78.8\n",
       "==============================================================================\n",
       "\n",
       "Warnings:\n",
       "[1] Standard Errors assume that the covariance matrix of the errors is correctly specified.\n",
       "\"\"\""
      ]
     },
     "execution_count": 70,
     "metadata": {},
     "output_type": "execute_result"
    }
   ],
   "source": [
    "import statsmodels.api as sm\n",
    "from statsmodels.formula.api import ols\n",
    "\n",
    "X_int = sm.add_constant(predictors[result])\n",
    "\n",
    "model = sm.OLS(y, X_int).fit()\n",
    "model.summary()"
   ]
  },
  {
   "cell_type": "markdown",
   "metadata": {},
   "source": [
    "The model produced by step-wise selection keeps variables with p-value < 0.05. However, the adjusted R-square is only 0.629 which is worse than the single variable model."
   ]
  },
  {
   "cell_type": "markdown",
   "metadata": {},
   "source": [
    "#### Let's use some common sense... since sqft_living along explains majority of the variance, how about adding bedrooms and waterfront to the model?"
   ]
  },
  {
   "cell_type": "code",
   "execution_count": 165,
   "metadata": {},
   "outputs": [
    {
     "data": {
      "text/html": [
       "<table class=\"simpletable\">\n",
       "<caption>OLS Regression Results</caption>\n",
       "<tr>\n",
       "  <th>Dep. Variable:</th>          <td>price</td>      <th>  R-squared:         </th>  <td>   0.493</td>  \n",
       "</tr>\n",
       "<tr>\n",
       "  <th>Model:</th>                   <td>OLS</td>       <th>  Adj. R-squared:    </th>  <td>   0.493</td>  \n",
       "</tr>\n",
       "<tr>\n",
       "  <th>Method:</th>             <td>Least Squares</td>  <th>  F-statistic:       </th>  <td>2.097e+04</td> \n",
       "</tr>\n",
       "<tr>\n",
       "  <th>Date:</th>             <td>Mon, 13 May 2019</td> <th>  Prob (F-statistic):</th>   <td>  0.00</td>   \n",
       "</tr>\n",
       "<tr>\n",
       "  <th>Time:</th>                 <td>23:24:22</td>     <th>  Log-Likelihood:    </th> <td>-3.0005e+05</td>\n",
       "</tr>\n",
       "<tr>\n",
       "  <th>No. Observations:</th>      <td> 21596</td>      <th>  AIC:               </th>  <td>6.001e+05</td> \n",
       "</tr>\n",
       "<tr>\n",
       "  <th>Df Residuals:</th>          <td> 21594</td>      <th>  BIC:               </th>  <td>6.001e+05</td> \n",
       "</tr>\n",
       "<tr>\n",
       "  <th>Df Model:</th>              <td>     1</td>      <th>                     </th>      <td> </td>     \n",
       "</tr>\n",
       "<tr>\n",
       "  <th>Covariance Type:</th>      <td>nonrobust</td>    <th>                     </th>      <td> </td>     \n",
       "</tr>\n",
       "</table>\n",
       "<table class=\"simpletable\">\n",
       "<tr>\n",
       "       <td></td>          <th>coef</th>     <th>std err</th>      <th>t</th>      <th>P>|t|</th>  <th>[0.025</th>    <th>0.975]</th>  \n",
       "</tr>\n",
       "<tr>\n",
       "  <th>const</th>       <td>-4.401e+04</td> <td> 4410.123</td> <td>   -9.980</td> <td> 0.000</td> <td>-5.27e+04</td> <td>-3.54e+04</td>\n",
       "</tr>\n",
       "<tr>\n",
       "  <th>sqft_living</th> <td>  280.8688</td> <td>    1.939</td> <td>  144.820</td> <td> 0.000</td> <td>  277.067</td> <td>  284.670</td>\n",
       "</tr>\n",
       "</table>\n",
       "<table class=\"simpletable\">\n",
       "<tr>\n",
       "  <th>Omnibus:</th>       <td>14801.492</td> <th>  Durbin-Watson:     </th>  <td>   1.982</td> \n",
       "</tr>\n",
       "<tr>\n",
       "  <th>Prob(Omnibus):</th>  <td> 0.000</td>   <th>  Jarque-Bera (JB):  </th> <td>542642.481</td>\n",
       "</tr>\n",
       "<tr>\n",
       "  <th>Skew:</th>           <td> 2.820</td>   <th>  Prob(JB):          </th>  <td>    0.00</td> \n",
       "</tr>\n",
       "<tr>\n",
       "  <th>Kurtosis:</th>       <td>26.901</td>   <th>  Cond. No.          </th>  <td>5.63e+03</td> \n",
       "</tr>\n",
       "</table><br/><br/>Warnings:<br/>[1] Standard Errors assume that the covariance matrix of the errors is correctly specified.<br/>[2] The condition number is large, 5.63e+03. This might indicate that there are<br/>strong multicollinearity or other numerical problems."
      ],
      "text/plain": [
       "<class 'statsmodels.iolib.summary.Summary'>\n",
       "\"\"\"\n",
       "                            OLS Regression Results                            \n",
       "==============================================================================\n",
       "Dep. Variable:                  price   R-squared:                       0.493\n",
       "Model:                            OLS   Adj. R-squared:                  0.493\n",
       "Method:                 Least Squares   F-statistic:                 2.097e+04\n",
       "Date:                Mon, 13 May 2019   Prob (F-statistic):               0.00\n",
       "Time:                        23:24:22   Log-Likelihood:            -3.0005e+05\n",
       "No. Observations:               21596   AIC:                         6.001e+05\n",
       "Df Residuals:                   21594   BIC:                         6.001e+05\n",
       "Df Model:                           1                                         \n",
       "Covariance Type:            nonrobust                                         \n",
       "===============================================================================\n",
       "                  coef    std err          t      P>|t|      [0.025      0.975]\n",
       "-------------------------------------------------------------------------------\n",
       "const       -4.401e+04   4410.123     -9.980      0.000   -5.27e+04   -3.54e+04\n",
       "sqft_living   280.8688      1.939    144.820      0.000     277.067     284.670\n",
       "==============================================================================\n",
       "Omnibus:                    14801.492   Durbin-Watson:                   1.982\n",
       "Prob(Omnibus):                  0.000   Jarque-Bera (JB):           542642.481\n",
       "Skew:                           2.820   Prob(JB):                         0.00\n",
       "Kurtosis:                      26.901   Cond. No.                     5.63e+03\n",
       "==============================================================================\n",
       "\n",
       "Warnings:\n",
       "[1] Standard Errors assume that the covariance matrix of the errors is correctly specified.\n",
       "[2] The condition number is large, 5.63e+03. This might indicate that there are\n",
       "strong multicollinearity or other numerical problems.\n",
       "\"\"\""
      ]
     },
     "execution_count": 165,
     "metadata": {},
     "output_type": "execute_result"
    }
   ],
   "source": [
    "import statsmodels.api as sm\n",
    "#from statsmodels.formula.api import ols\n",
    "y=data_ols['price']\n",
    "predictors = data_ols[['sqft_living']]\n",
    "X_int = sm.add_constant(predictors)\n",
    "\n",
    "model = sm.OLS(y, X_int).fit()\n",
    "model.summary()"
   ]
  },
  {
   "cell_type": "code",
   "execution_count": null,
   "metadata": {},
   "outputs": [],
   "source": []
  },
  {
   "cell_type": "code",
   "execution_count": null,
   "metadata": {},
   "outputs": [],
   "source": []
  },
  {
   "cell_type": "code",
   "execution_count": null,
   "metadata": {},
   "outputs": [],
   "source": []
  },
  {
   "cell_type": "code",
   "execution_count": null,
   "metadata": {},
   "outputs": [],
   "source": []
  },
  {
   "cell_type": "markdown",
   "metadata": {},
   "source": [
    "## Use sklearn"
   ]
  },
  {
   "cell_type": "markdown",
   "metadata": {},
   "source": [
    "#You have to use numerical values in sklearn... has to transform to dummy variables...\n",
    "https://www.scikit-yb.org/en/latest/api/features/rfecv.html"
   ]
  },
  {
   "cell_type": "code",
   "execution_count": 146,
   "metadata": {},
   "outputs": [],
   "source": [
    "from sklearn.feature_selection import RFE\n",
    "from sklearn.linear_model import LinearRegression"
   ]
  },
  {
   "cell_type": "code",
   "execution_count": null,
   "metadata": {},
   "outputs": [],
   "source": []
  },
  {
   "cell_type": "code",
   "execution_count": 160,
   "metadata": {},
   "outputs": [],
   "source": [
    "predictors = data_ols.drop('price', axis=1)\n",
    "X = predictors\n",
    "y = data_ols['price']\n",
    "\n",
    "linreg = LinearRegression()\n",
    "selector = RFE(linreg,n_features_to_select=10)\n",
    "selector = selector.fit(X,y)"
   ]
  },
  {
   "cell_type": "code",
   "execution_count": 161,
   "metadata": {
    "scrolled": true
   },
   "outputs": [
    {
     "data": {
      "text/plain": [
       "Index(['price', 'bedrooms', 'bathrooms', 'sqft_living', 'sqft_lot', 'floors',\n",
       "       'waterfront', 'view', 'condition', 'grade', 'sqft_above',\n",
       "       'sqft_basement', 'yr_built', 'view_0', 'view_1', 'view_2', 'view_3',\n",
       "       'view_4', 'con_1', 'con_2', 'con_3', 'con_4', 'con_5', 'bedroom_(1, 2]',\n",
       "       'bedroom_(2, 3]', 'bedroom_(3, 4]', 'bedroom_(4, 11]',\n",
       "       'bathroom_(0.5, 1.5]', 'bathroom_(1.5, 2.0]', 'bathroom_(2.0, 2.5]',\n",
       "       'bathroom_(2.5, 5.0]', 'bathroom_(5.0, 8.0]', 'grade_(3, 7]',\n",
       "       'grade_(7, 8]', 'grade_(8, 10]', 'grade_(10, 13]', 'waterfront_0.0',\n",
       "       'waterfront_1.0', 'floors_(0.0, 1.0]', 'floors_(1.0, 1.5]',\n",
       "       'floors_(1.5, 2.0]', 'floors_(2.0, 3.5]', 'year_(1900, 1950]',\n",
       "       'year_(1950, 1975]', 'year_(1975, 1995]', 'year_(1995, 2015]'],\n",
       "      dtype='object')"
      ]
     },
     "execution_count": 161,
     "metadata": {},
     "output_type": "execute_result"
    }
   ],
   "source": [
    "data_ols.columns"
   ]
  },
  {
   "cell_type": "code",
   "execution_count": 162,
   "metadata": {},
   "outputs": [
    {
     "data": {
      "text/plain": [
       "array([False, False, False, False, False, False,  True, False, False,\n",
       "       False, False, False,  True,  True, False,  True,  True,  True,\n",
       "       False, False, False, False, False, False, False, False, False,\n",
       "       False, False, False, False, False, False, False, False, False,\n",
       "       False,  True,  True,  True,  True, False, False, False, False])"
      ]
     },
     "execution_count": 162,
     "metadata": {},
     "output_type": "execute_result"
    }
   ],
   "source": [
    "selector.support_"
   ]
  },
  {
   "cell_type": "code",
   "execution_count": 163,
   "metadata": {},
   "outputs": [
    {
     "name": "stdout",
     "output_type": "stream",
     "text": [
      "[-1.44979175e+17 -2.89958350e+17 -1.44979175e+17  1.44979175e+17\n",
      "  2.89958350e+17 -1.69766873e+05 -3.65703846e+17 -3.65703846e+17\n",
      " -3.65703846e+17 -3.65703846e+17]\n",
      "6.556621960236466e+17\n"
     ]
    }
   ],
   "source": [
    "estimators = selector.estimator_\n",
    "print(estimators.coef_)\n",
    "print(estimators.intercept_)"
   ]
  },
  {
   "cell_type": "code",
   "execution_count": 164,
   "metadata": {},
   "outputs": [
    {
     "data": {
      "text/plain": [
       "Index(['view', 'view_0', 'view_1', 'view_3', 'view_4', 'con_1',\n",
       "       'floors_(0.0, 1.0]', 'floors_(1.0, 1.5]', 'floors_(1.5, 2.0]',\n",
       "       'floors_(2.0, 3.5]'],\n",
       "      dtype='object')"
      ]
     },
     "execution_count": 164,
     "metadata": {},
     "output_type": "execute_result"
    }
   ],
   "source": [
    "selected_columns = X.columns[selector.support_ ]\n",
    "linreg.fit(X[selected_columns],y)\n",
    "selected_columns"
   ]
  },
  {
   "cell_type": "code",
   "execution_count": 157,
   "metadata": {},
   "outputs": [
    {
     "data": {
      "text/html": [
       "<table class=\"simpletable\">\n",
       "<caption>OLS Regression Results</caption>\n",
       "<tr>\n",
       "  <th>Dep. Variable:</th>          <td>price</td>      <th>  R-squared:         </th>  <td>   0.234</td>  \n",
       "</tr>\n",
       "<tr>\n",
       "  <th>Model:</th>                   <td>OLS</td>       <th>  Adj. R-squared:    </th>  <td>   0.233</td>  \n",
       "</tr>\n",
       "<tr>\n",
       "  <th>Method:</th>             <td>Least Squares</td>  <th>  F-statistic:       </th>  <td>   822.9</td>  \n",
       "</tr>\n",
       "<tr>\n",
       "  <th>Date:</th>             <td>Mon, 13 May 2019</td> <th>  Prob (F-statistic):</th>   <td>  0.00</td>   \n",
       "</tr>\n",
       "<tr>\n",
       "  <th>Time:</th>                 <td>23:21:22</td>     <th>  Log-Likelihood:    </th> <td>-3.0450e+05</td>\n",
       "</tr>\n",
       "<tr>\n",
       "  <th>No. Observations:</th>      <td> 21596</td>      <th>  AIC:               </th>  <td>6.090e+05</td> \n",
       "</tr>\n",
       "<tr>\n",
       "  <th>Df Residuals:</th>          <td> 21587</td>      <th>  BIC:               </th>  <td>6.091e+05</td> \n",
       "</tr>\n",
       "<tr>\n",
       "  <th>Df Model:</th>              <td>     8</td>      <th>                     </th>      <td> </td>     \n",
       "</tr>\n",
       "<tr>\n",
       "  <th>Covariance Type:</th>      <td>nonrobust</td>    <th>                     </th>      <td> </td>     \n",
       "</tr>\n",
       "</table>\n",
       "<table class=\"simpletable\">\n",
       "<tr>\n",
       "          <td></td>             <th>coef</th>     <th>std err</th>      <th>t</th>      <th>P>|t|</th>  <th>[0.025</th>    <th>0.975]</th>  \n",
       "</tr>\n",
       "<tr>\n",
       "  <th>const</th>             <td>-6.978e+17</td> <td> 2.59e+17</td> <td>   -2.695</td> <td> 0.007</td> <td>-1.21e+18</td> <td> -1.9e+17</td>\n",
       "</tr>\n",
       "<tr>\n",
       "  <th>view</th>              <td>-4.376e+04</td> <td> 2.05e+04</td> <td>   -2.130</td> <td> 0.033</td> <td> -8.4e+04</td> <td>-3500.441</td>\n",
       "</tr>\n",
       "<tr>\n",
       "  <th>view_0</th>            <td> -3.78e+05</td> <td>  3.7e+04</td> <td>  -10.217</td> <td> 0.000</td> <td> -4.5e+05</td> <td>-3.05e+05</td>\n",
       "</tr>\n",
       "<tr>\n",
       "  <th>view_3</th>            <td> 2.171e+05</td> <td> 3.08e+04</td> <td>    7.043</td> <td> 0.000</td> <td> 1.57e+05</td> <td> 2.77e+05</td>\n",
       "</tr>\n",
       "<tr>\n",
       "  <th>view_4</th>            <td> 7.352e+05</td> <td> 5.05e+04</td> <td>   14.548</td> <td> 0.000</td> <td> 6.36e+05</td> <td> 8.34e+05</td>\n",
       "</tr>\n",
       "<tr>\n",
       "  <th>floors_(0.0, 1.0]</th> <td> 6.978e+17</td> <td> 2.59e+17</td> <td>    2.695</td> <td> 0.007</td> <td>  1.9e+17</td> <td> 1.21e+18</td>\n",
       "</tr>\n",
       "<tr>\n",
       "  <th>floors_(1.0, 1.5]</th> <td> 6.978e+17</td> <td> 2.59e+17</td> <td>    2.695</td> <td> 0.007</td> <td>  1.9e+17</td> <td> 1.21e+18</td>\n",
       "</tr>\n",
       "<tr>\n",
       "  <th>floors_(1.5, 2.0]</th> <td> 6.978e+17</td> <td> 2.59e+17</td> <td>    2.695</td> <td> 0.007</td> <td>  1.9e+17</td> <td> 1.21e+18</td>\n",
       "</tr>\n",
       "<tr>\n",
       "  <th>floors_(2.0, 3.5]</th> <td> 6.978e+17</td> <td> 2.59e+17</td> <td>    2.695</td> <td> 0.007</td> <td>  1.9e+17</td> <td> 1.21e+18</td>\n",
       "</tr>\n",
       "</table>\n",
       "<table class=\"simpletable\">\n",
       "<tr>\n",
       "  <th>Omnibus:</th>       <td>18269.049</td> <th>  Durbin-Watson:     </th>  <td>   1.969</td>  \n",
       "</tr>\n",
       "<tr>\n",
       "  <th>Prob(Omnibus):</th>  <td> 0.000</td>   <th>  Jarque-Bera (JB):  </th> <td>1252024.214</td>\n",
       "</tr>\n",
       "<tr>\n",
       "  <th>Skew:</th>           <td> 3.678</td>   <th>  Prob(JB):          </th>  <td>    0.00</td>  \n",
       "</tr>\n",
       "<tr>\n",
       "  <th>Kurtosis:</th>       <td>39.569</td>   <th>  Cond. No.          </th>  <td>4.00e+14</td>  \n",
       "</tr>\n",
       "</table><br/><br/>Warnings:<br/>[1] Standard Errors assume that the covariance matrix of the errors is correctly specified.<br/>[2] The smallest eigenvalue is 3.09e-25. This might indicate that there are<br/>strong multicollinearity problems or that the design matrix is singular."
      ],
      "text/plain": [
       "<class 'statsmodels.iolib.summary.Summary'>\n",
       "\"\"\"\n",
       "                            OLS Regression Results                            \n",
       "==============================================================================\n",
       "Dep. Variable:                  price   R-squared:                       0.234\n",
       "Model:                            OLS   Adj. R-squared:                  0.233\n",
       "Method:                 Least Squares   F-statistic:                     822.9\n",
       "Date:                Mon, 13 May 2019   Prob (F-statistic):               0.00\n",
       "Time:                        23:21:22   Log-Likelihood:            -3.0450e+05\n",
       "No. Observations:               21596   AIC:                         6.090e+05\n",
       "Df Residuals:                   21587   BIC:                         6.091e+05\n",
       "Df Model:                           8                                         \n",
       "Covariance Type:            nonrobust                                         \n",
       "=====================================================================================\n",
       "                        coef    std err          t      P>|t|      [0.025      0.975]\n",
       "-------------------------------------------------------------------------------------\n",
       "const             -6.978e+17   2.59e+17     -2.695      0.007   -1.21e+18    -1.9e+17\n",
       "view              -4.376e+04   2.05e+04     -2.130      0.033    -8.4e+04   -3500.441\n",
       "view_0             -3.78e+05    3.7e+04    -10.217      0.000    -4.5e+05   -3.05e+05\n",
       "view_3             2.171e+05   3.08e+04      7.043      0.000    1.57e+05    2.77e+05\n",
       "view_4             7.352e+05   5.05e+04     14.548      0.000    6.36e+05    8.34e+05\n",
       "floors_(0.0, 1.0]  6.978e+17   2.59e+17      2.695      0.007     1.9e+17    1.21e+18\n",
       "floors_(1.0, 1.5]  6.978e+17   2.59e+17      2.695      0.007     1.9e+17    1.21e+18\n",
       "floors_(1.5, 2.0]  6.978e+17   2.59e+17      2.695      0.007     1.9e+17    1.21e+18\n",
       "floors_(2.0, 3.5]  6.978e+17   2.59e+17      2.695      0.007     1.9e+17    1.21e+18\n",
       "==============================================================================\n",
       "Omnibus:                    18269.049   Durbin-Watson:                   1.969\n",
       "Prob(Omnibus):                  0.000   Jarque-Bera (JB):          1252024.214\n",
       "Skew:                           3.678   Prob(JB):                         0.00\n",
       "Kurtosis:                      39.569   Cond. No.                     4.00e+14\n",
       "==============================================================================\n",
       "\n",
       "Warnings:\n",
       "[1] Standard Errors assume that the covariance matrix of the errors is correctly specified.\n",
       "[2] The smallest eigenvalue is 3.09e-25. This might indicate that there are\n",
       "strong multicollinearity problems or that the design matrix is singular.\n",
       "\"\"\""
      ]
     },
     "execution_count": 157,
     "metadata": {},
     "output_type": "execute_result"
    }
   ],
   "source": [
    "X_int = sm.add_constant(predictors[selected_columns])\n",
    "\n",
    "model = sm.OLS(y, X_int).fit()\n",
    "model.summary()"
   ]
  },
  {
   "cell_type": "markdown",
   "metadata": {},
   "source": [
    "#### "
   ]
  },
  {
   "cell_type": "code",
   "execution_count": null,
   "metadata": {},
   "outputs": [],
   "source": []
  },
  {
   "cell_type": "code",
   "execution_count": null,
   "metadata": {},
   "outputs": [],
   "source": []
  },
  {
   "cell_type": "code",
   "execution_count": null,
   "metadata": {},
   "outputs": [],
   "source": []
  },
  {
   "cell_type": "code",
   "execution_count": null,
   "metadata": {},
   "outputs": [],
   "source": []
  },
  {
   "cell_type": "code",
   "execution_count": null,
   "metadata": {},
   "outputs": [],
   "source": [
    "\"\"\"\n",
    "\n",
    "\n",
    "formula = \"price ~ bedrooms + bathrooms + sqft_above + sqft_lot + sqft_basement + sqft_living + yr_built + grade + con_1+con_2+con_3+con_4+con_5\"\n",
    "model = ols(formula=formula, data = data_ols).fit()\n",
    "model.summary()\n",
    "\n",
    "\"\"\""
   ]
  },
  {
   "cell_type": "code",
   "execution_count": null,
   "metadata": {},
   "outputs": [],
   "source": []
  },
  {
   "cell_type": "code",
   "execution_count": null,
   "metadata": {},
   "outputs": [],
   "source": []
  },
  {
   "cell_type": "code",
   "execution_count": null,
   "metadata": {},
   "outputs": [],
   "source": []
  },
  {
   "cell_type": "markdown",
   "metadata": {},
   "source": [
    "## Cross-Validation"
   ]
  },
  {
   "cell_type": "code",
   "execution_count": null,
   "metadata": {},
   "outputs": [],
   "source": []
  },
  {
   "cell_type": "code",
   "execution_count": null,
   "metadata": {},
   "outputs": [],
   "source": []
  }
 ],
 "metadata": {
  "kernelspec": {
   "display_name": "Python 3",
   "language": "python",
   "name": "python3"
  },
  "language_info": {
   "codemirror_mode": {
    "name": "ipython",
    "version": 3
   },
   "file_extension": ".py",
   "mimetype": "text/x-python",
   "name": "python",
   "nbconvert_exporter": "python",
   "pygments_lexer": "ipython3",
   "version": "3.6.3"
  }
 },
 "nbformat": 4,
 "nbformat_minor": 2
}
